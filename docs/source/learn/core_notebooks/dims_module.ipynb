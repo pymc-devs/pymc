{
 "cells": [
  {
   "cell_type": "markdown",
   "id": "17e37649edaa8d0d",
   "metadata": {},
   "source": [
    "(dims_module)=\n",
    "\n",
    "# PyMC dims module"
   ]
  },
  {
   "cell_type": "markdown",
   "id": "79268b908558209c",
   "metadata": {},
   "source": [
    "## A short history of dims in PyMC\n",
    "\n",
    "PyMC introduced the ability to specify model variable `dims` in version 3.9 in June 2020 (5 years as of the time of writing). In the release notes, it was mentioned only after [14 other new features](https://github.com/pymc-devs/pymc/blob/1d00f3eb81723523968f3610e81a0c42fd96326f/RELEASE-NOTES.md?plain=1#L236), but over time it became a foundation of the library.\n",
    "\n",
    "It allows users to more naturally specify the dimensions of model variables with string names, and provides a \"seamless\" conversion to arviz {doc}`InferenceData <arviz:xarray_for_arviz>` objects, which have become the standard for storing and investigating results from probabilistic programming languages.\n",
    "\n",
    "However, the behavior of dims is rather limited. It can only be used to specify the shape of new random variables and label existing dimensions (e.g., in {func}`~pymc.Deterministic`). Otherwise it has no effect on the computation, unlike operations done with {class}`~arviz.InferenceData` variables, which are based on {lib}`xarray` and where dims inform array selection, alignment, and broadcasting behavior.\n",
    "\n",
    "As a result, in PyMC models users have to write computations that follow NumPy semantics, which often requires transpositions, reshapes, new axis (`None`) and numerical axis arguments sprinkled everywhere. It can be hard to get these right and in the end it's often hard to make sense of the written model.\n",
    "\n",
    "### Expanding the role of dims\n",
    "\n",
    "Now we are introducing an experimental {mod}`pymc.dims` module that allows users to define data, distributions, and math operations that respect dim semantics, following {mode}`xarray` operations **without coordinates** as closely as possible.\n",
    "\n",
    ":::{warning}The `dims` module is experimental, not exhaustively tested and the API is being iteratively worked on, and is therefore subject to changes between any two PyMC releases. We welcome users to test it and provide feedback, but we don't yet endorse its use for production.:::\n",
    "\n",
    "\n",
    "## A simple example\n",
    "\n",
    "We'll start with a model written in current PyMC style, using synthetic data."
   ]
  },
  {
   "cell_type": "code",
   "execution_count": 1,
   "id": "20399d0df364361e",
   "metadata": {},
   "outputs": [],
   "source": [
    "import numpy as np\n",
    "\n",
    "import pymc as pm\n",
    "\n",
    "seed = sum(map(ord, \"dims module\"))\n",
    "rng = np.random.default_rng(seed)"
   ]
  },
  {
   "cell_type": "code",
   "execution_count": 2,
   "id": "313be4498ce33680",
   "metadata": {},
   "outputs": [],
   "source": [
    "# Very realistic looking data!\n",
    "observed_response_np = np.ones((5, 20), dtype=int)\n",
    "coords = coords = {\n",
    "    \"participant\": range(5),\n",
    "    \"trial\": range(20),\n",
    "    \"item\": range(3),\n",
    "}"
   ]
  },
  {
   "cell_type": "markdown",
   "id": "12822088a0040760",
   "metadata": {},
   "source": [
    "This model predicts participants' categorical responses across trials by combining participant-specific item preferences (constrained to sum to zero) with shared time-varying effects, then applying a softmax to model response probabilities.\n",
    "\n",
    "Notice the need to identify axes by number rather than dimension name, and the need to use `None` to create new axes in order to specify broadcast requirements."
   ]
  },
  {
   "cell_type": "code",
   "execution_count": 3,
   "id": "4c97fc1f0b8eeec",
   "metadata": {},
   "outputs": [],
   "source": [
    "with pm.Model(coords=coords) as model:\n",
    "    observed_response = pm.Data(\n",
    "        \"observed_response\", observed_response_np, dims=(\"participant\", \"trial\")\n",
    "    )\n",
    "    # Use ZeroSumNormal to avoid identifiability issues\n",
    "    participant_preference = pm.ZeroSumNormal(\n",
    "        \"participant_preference\", n_zerosum_axes=1, dims=(\"participant\", \"item\")\n",
    "    )\n",
    "\n",
    "    # Shared time effects across all participants\n",
    "    time_effects = pm.Normal(\"time_effects\", dims=(\"trial\", \"item\"))\n",
    "\n",
    "    trial_preference = pm.Deterministic(\n",
    "        \"trial_preference\",\n",
    "        participant_preference[:, None, :] + time_effects[None, :, :],\n",
    "        dims=(\"participant\", \"trial\", \"item\"),\n",
    "    )\n",
    "\n",
    "    response = pm.Categorical(\n",
    "        \"response\",\n",
    "        p=pm.math.softmax(trial_preference, axis=-1),\n",
    "        observed=observed_response,\n",
    "        dims=(\"participant\", \"trial\"),\n",
    "    )"
   ]
  },
  {
   "cell_type": "code",
   "execution_count": 4,
   "id": "2efa25b6d8713c0",
   "metadata": {
    "ExecuteTime": {
     "end_time": "2025-06-30T15:53:29.819511Z",
     "start_time": "2025-06-30T15:53:25.547610Z"
    }
   },
   "outputs": [
    {
     "data": {
      "image/svg+xml": [
       "<?xml version=\"1.0\" encoding=\"UTF-8\" standalone=\"no\"?>\n",
       "<!DOCTYPE svg PUBLIC \"-//W3C//DTD SVG 1.1//EN\"\n",
       " \"http://www.w3.org/Graphics/SVG/1.1/DTD/svg11.dtd\">\n",
       "<!-- Generated by graphviz version 12.2.1 (20250203.1708)\n",
       " -->\n",
       "<!-- Pages: 1 -->\n",
       "<svg width=\"460pt\" height=\"488pt\"\n",
       " viewBox=\"0.00 0.00 460.00 488.25\" xmlns=\"http://www.w3.org/2000/svg\" xmlns:xlink=\"http://www.w3.org/1999/xlink\">\n",
       "<g id=\"graph0\" class=\"graph\" transform=\"scale(1 1) rotate(0) translate(4 484.25)\">\n",
       "<polygon fill=\"white\" stroke=\"none\" points=\"-4,4 -4,-484.25 456,-484.25 456,4 -4,4\"/>\n",
       "<g id=\"clust1\" class=\"cluster\">\n",
       "<title>clusterparticipant (5) x trial (20)</title>\n",
       "<path fill=\"none\" stroke=\"black\" d=\"M121,-8C121,-8 296,-8 296,-8 302,-8 308,-14 308,-20 308,-20 308,-217.5 308,-217.5 308,-223.5 302,-229.5 296,-229.5 296,-229.5 121,-229.5 121,-229.5 115,-229.5 109,-223.5 109,-217.5 109,-217.5 109,-20 109,-20 109,-14 115,-8 121,-8\"/>\n",
       "<text text-anchor=\"middle\" x=\"208.5\" y=\"-15.95\" font-family=\"Times,serif\" font-size=\"14.00\">participant (5) x trial (20)</text>\n",
       "</g>\n",
       "<g id=\"clust2\" class=\"cluster\">\n",
       "<title>clusterparticipant (5) x item (3)</title>\n",
       "<path fill=\"none\" stroke=\"black\" d=\"M20,-346.5C20,-346.5 264,-346.5 264,-346.5 270,-346.5 276,-352.5 276,-358.5 276,-358.5 276,-460.25 276,-460.25 276,-466.25 270,-472.25 264,-472.25 264,-472.25 20,-472.25 20,-472.25 14,-472.25 8,-466.25 8,-460.25 8,-460.25 8,-358.5 8,-358.5 8,-352.5 14,-346.5 20,-346.5\"/>\n",
       "<text text-anchor=\"middle\" x=\"179.88\" y=\"-354.45\" font-family=\"Times,serif\" font-size=\"14.00\">participant (5) x item (3)</text>\n",
       "</g>\n",
       "<g id=\"clust3\" class=\"cluster\">\n",
       "<title>clustertrial (20) x item (3)</title>\n",
       "<path fill=\"none\" stroke=\"black\" d=\"M296,-346.5C296,-346.5 432,-346.5 432,-346.5 438,-346.5 444,-352.5 444,-358.5 444,-358.5 444,-460.25 444,-460.25 444,-466.25 438,-472.25 432,-472.25 432,-472.25 296,-472.25 296,-472.25 290,-472.25 284,-466.25 284,-460.25 284,-460.25 284,-358.5 284,-358.5 284,-352.5 290,-346.5 296,-346.5\"/>\n",
       "<text text-anchor=\"middle\" x=\"367.75\" y=\"-354.45\" font-family=\"Times,serif\" font-size=\"14.00\">trial (20) x item (3)</text>\n",
       "</g>\n",
       "<g id=\"clust4\" class=\"cluster\">\n",
       "<title>clusterparticipant (5) x trial (20) x item (3)</title>\n",
       "<path fill=\"none\" stroke=\"black\" d=\"M117,-237.5C117,-237.5 365,-237.5 365,-237.5 371,-237.5 377,-243.5 377,-249.5 377,-249.5 377,-326.5 377,-326.5 377,-332.5 371,-338.5 365,-338.5 365,-338.5 117,-338.5 117,-338.5 111,-338.5 105,-332.5 105,-326.5 105,-326.5 105,-249.5 105,-249.5 105,-243.5 111,-237.5 117,-237.5\"/>\n",
       "<text text-anchor=\"middle\" x=\"240.75\" y=\"-245.45\" font-family=\"Times,serif\" font-size=\"14.00\">participant (5) x trial (20) x item (3)</text>\n",
       "</g>\n",
       "<!-- observed_response -->\n",
       "<g id=\"node1\" class=\"node\">\n",
       "<title>observed_response</title>\n",
       "<path fill=\"lightgrey\" stroke=\"black\" d=\"M272.25,-101C272.25,-101 143.75,-101 143.75,-101 137.75,-101 131.75,-95 131.75,-89 131.75,-89 131.75,-53.25 131.75,-53.25 131.75,-47.25 137.75,-41.25 143.75,-41.25 143.75,-41.25 272.25,-41.25 272.25,-41.25 278.25,-41.25 284.25,-47.25 284.25,-53.25 284.25,-53.25 284.25,-89 284.25,-89 284.25,-95 278.25,-101 272.25,-101\"/>\n",
       "<text text-anchor=\"middle\" x=\"208\" y=\"-83.7\" font-family=\"Times,serif\" font-size=\"14.00\">observed_response</text>\n",
       "<text text-anchor=\"middle\" x=\"208\" y=\"-66.45\" font-family=\"Times,serif\" font-size=\"14.00\">~</text>\n",
       "<text text-anchor=\"middle\" x=\"208\" y=\"-49.2\" font-family=\"Times,serif\" font-size=\"14.00\">Data</text>\n",
       "</g>\n",
       "<!-- response -->\n",
       "<g id=\"node2\" class=\"node\">\n",
       "<title>response</title>\n",
       "<ellipse fill=\"lightgrey\" stroke=\"black\" cx=\"208\" cy=\"-179.25\" rx=\"69.12\" ry=\"42.25\"/>\n",
       "<text text-anchor=\"middle\" x=\"208\" y=\"-191.82\" font-family=\"Times,serif\" font-size=\"14.00\">response</text>\n",
       "<text text-anchor=\"middle\" x=\"208\" y=\"-174.57\" font-family=\"Times,serif\" font-size=\"14.00\">~</text>\n",
       "<text text-anchor=\"middle\" x=\"208\" y=\"-157.32\" font-family=\"Times,serif\" font-size=\"14.00\">Categorical</text>\n",
       "</g>\n",
       "<!-- response&#45;&gt;observed_response -->\n",
       "<g id=\"edge1\" class=\"edge\">\n",
       "<title>response&#45;&gt;observed_response</title>\n",
       "<path fill=\"none\" stroke=\"black\" d=\"M208,-136.61C208,-128.74 208,-120.53 208,-112.69\"/>\n",
       "<polygon fill=\"black\" stroke=\"black\" points=\"211.5,-112.71 208,-102.71 204.5,-112.71 211.5,-112.71\"/>\n",
       "</g>\n",
       "<!-- participant_preference -->\n",
       "<g id=\"node3\" class=\"node\">\n",
       "<title>participant_preference</title>\n",
       "<ellipse fill=\"none\" stroke=\"black\" cx=\"142\" cy=\"-422\" rx=\"126.4\" ry=\"42.25\"/>\n",
       "<text text-anchor=\"middle\" x=\"142\" y=\"-434.57\" font-family=\"Times,serif\" font-size=\"14.00\">participant_preference</text>\n",
       "<text text-anchor=\"middle\" x=\"142\" y=\"-417.32\" font-family=\"Times,serif\" font-size=\"14.00\">~</text>\n",
       "<text text-anchor=\"middle\" x=\"142\" y=\"-400.07\" font-family=\"Times,serif\" font-size=\"14.00\">ZeroSumNormal</text>\n",
       "</g>\n",
       "<!-- trial_preference -->\n",
       "<g id=\"node5\" class=\"node\">\n",
       "<title>trial_preference</title>\n",
       "<polygon fill=\"none\" stroke=\"black\" points=\"273,-330.5 143,-330.5 143,-270.75 273,-270.75 273,-330.5\"/>\n",
       "<text text-anchor=\"middle\" x=\"208\" y=\"-313.2\" font-family=\"Times,serif\" font-size=\"14.00\">trial_preference</text>\n",
       "<text text-anchor=\"middle\" x=\"208\" y=\"-295.95\" font-family=\"Times,serif\" font-size=\"14.00\">~</text>\n",
       "<text text-anchor=\"middle\" x=\"208\" y=\"-278.7\" font-family=\"Times,serif\" font-size=\"14.00\">Deterministic</text>\n",
       "</g>\n",
       "<!-- participant_preference&#45;&gt;trial_preference -->\n",
       "<g id=\"edge2\" class=\"edge\">\n",
       "<title>participant_preference&#45;&gt;trial_preference</title>\n",
       "<path fill=\"none\" stroke=\"black\" d=\"M164.53,-380.25C171.6,-367.46 179.39,-353.37 186.39,-340.7\"/>\n",
       "<polygon fill=\"black\" stroke=\"black\" points=\"189.31,-342.66 191.09,-332.22 183.18,-339.28 189.31,-342.66\"/>\n",
       "</g>\n",
       "<!-- time_effects -->\n",
       "<g id=\"node4\" class=\"node\">\n",
       "<title>time_effects</title>\n",
       "<ellipse fill=\"none\" stroke=\"black\" cx=\"364\" cy=\"-422\" rx=\"72.3\" ry=\"42.25\"/>\n",
       "<text text-anchor=\"middle\" x=\"364\" y=\"-434.57\" font-family=\"Times,serif\" font-size=\"14.00\">time_effects</text>\n",
       "<text text-anchor=\"middle\" x=\"364\" y=\"-417.32\" font-family=\"Times,serif\" font-size=\"14.00\">~</text>\n",
       "<text text-anchor=\"middle\" x=\"364\" y=\"-400.07\" font-family=\"Times,serif\" font-size=\"14.00\">Normal</text>\n",
       "</g>\n",
       "<!-- time_effects&#45;&gt;trial_preference -->\n",
       "<g id=\"edge3\" class=\"edge\">\n",
       "<title>time_effects&#45;&gt;trial_preference</title>\n",
       "<path fill=\"none\" stroke=\"black\" d=\"M326.67,-385.47C312.5,-372.64 295.93,-358.4 280,-346.5 275.8,-343.36 271.37,-340.22 266.86,-337.15\"/>\n",
       "<polygon fill=\"black\" stroke=\"black\" points=\"269.06,-334.42 258.8,-331.8 265.19,-340.25 269.06,-334.42\"/>\n",
       "</g>\n",
       "<!-- trial_preference&#45;&gt;response -->\n",
       "<g id=\"edge4\" class=\"edge\">\n",
       "<title>trial_preference&#45;&gt;response</title>\n",
       "<path fill=\"none\" stroke=\"black\" d=\"M208,-270.42C208,-259.1 208,-245.79 208,-232.91\"/>\n",
       "<polygon fill=\"black\" stroke=\"black\" points=\"211.5,-233.29 208,-223.29 204.5,-233.29 211.5,-233.29\"/>\n",
       "</g>\n",
       "</g>\n",
       "</svg>\n"
      ],
      "text/plain": [
       "<graphviz.graphs.Digraph at 0x7fb89cd14d10>"
      ]
     },
     "execution_count": 4,
     "metadata": {},
     "output_type": "execute_result"
    }
   ],
   "source": [
    "model.to_graphviz()"
   ]
  },
  {
   "cell_type": "markdown",
   "id": "41bccc7c213e1be3",
   "metadata": {},
   "source": [
    "And here's the equivalent model using the {mod}`pymc.dims` module."
   ]
  },
  {
   "cell_type": "code",
   "execution_count": 5,
   "id": "3ff29a7a93236486",
   "metadata": {},
   "outputs": [
    {
     "name": "stderr",
     "output_type": "stream",
     "text": [
      "/home/ricardo/Documents/pymc/pymc/dims/__init__.py:66: UserWarning: The `pymc.dims` module is experimental and may contain critical bugs (p=0.676).\n",
      "Please report any issues you encounter at https://github.com/pymc-devs/pymc/issues.\n",
      "Disclaimer: This an experimental API and may change at any time.\n",
      "  __init__()\n"
     ]
    }
   ],
   "source": [
    "import pymc.dims as pmd"
   ]
  },
  {
   "cell_type": "code",
   "execution_count": 6,
   "id": "c020e450cc165e46",
   "metadata": {
    "ExecuteTime": {
     "end_time": "2025-06-30T15:53:29.997156Z",
     "start_time": "2025-06-30T15:53:29.935025Z"
    }
   },
   "outputs": [],
   "source": [
    "with pm.Model(coords=coords) as dmodel:\n",
    "    observed_response = pmd.Data(\n",
    "        \"observed_response\", observed_response_np, dims=(\"participant\", \"trial\")\n",
    "    )\n",
    "    participant_preference = pmd.ZeroSumNormal(\n",
    "        \"participant_preference\", core_dims=\"item\", dims=(\"participant\", \"item\")\n",
    "    )\n",
    "\n",
    "    # Shared time effects across all participants\n",
    "    time_effects = pmd.Normal(\"time_effects\", dims=(\"item\", \"trial\"))\n",
    "\n",
    "    trial_preference = pmd.Deterministic(\n",
    "        \"trial_preference\",\n",
    "        participant_preference + time_effects,\n",
    "    )\n",
    "\n",
    "    response = pmd.Categorical(\n",
    "        \"response\",\n",
    "        p=pmd.math.softmax(trial_preference, dim=\"item\"),\n",
    "        core_dims=\"item\",\n",
    "        observed=observed_response,\n",
    "    )"
   ]
  },
  {
   "cell_type": "markdown",
   "id": "3985ee1b52708c0c",
   "metadata": {},
   "source": [
    "Note we still use the same {class}`~pymc.Model` constructor, but everything else was now defined with an equivalent function or class defined in the {mod}`pymc.dims` module.\n",
    "\n",
    "There are some notable differences:\n",
    "\n",
    "1. `ZeroSumNormal` takes a `core_dims` argument instead of `n_zerosum_axes`. This tells PyMC which of the `dims` that define the distribution are constrained to be zero-summed. All distributions that take non-scalar parameters now require a `core_dims` argument. Previously, they were assumed to be right-aligned by the user (see more in {doc}`dimensionality`). Now you don't have to worry about the order of the dimensions in your model, just their meaning!\n",
    "\n",
    "2. The `trial_preference` computation aligns dimensions for broadcasting automatically. Note we use {func}`pymc.dims.Deterministic` and not {func}`pymc.Deterministic`, which automatically propagates the `dims` to the model object.\n",
    "\n",
    "3. The `softmax` operation specifies the `dim` argument, not the positional axis. Note: The parameter is called `dim` and not `core_dims` because we try to stay as close as possible to the Xarray API, which uses `dim` throughout. But we make an exception for distributions because they already have the `dims` argument.\n",
    "\n",
    "4. The `Categorical` observed variable, like `ZeroSumNormal`, requires a `core_dims` argument to specify which dimension corresponds to the probability vector. Previously, it was necessary to place this dimension explicitly on the rightmost axis -- not any more!\n",
    "\n",
    "5. Even though dims were not specified for either `trial_preference` or `response`, PyMC automatically infers them.\n",
    "\n",
    "The graphviz representation looks the same as before."
   ]
  },
  {
   "cell_type": "code",
   "execution_count": 7,
   "id": "994058c6fe2920b3",
   "metadata": {},
   "outputs": [
    {
     "data": {
      "image/svg+xml": [
       "<?xml version=\"1.0\" encoding=\"UTF-8\" standalone=\"no\"?>\n",
       "<!DOCTYPE svg PUBLIC \"-//W3C//DTD SVG 1.1//EN\"\n",
       " \"http://www.w3.org/Graphics/SVG/1.1/DTD/svg11.dtd\">\n",
       "<!-- Generated by graphviz version 12.2.1 (20250203.1708)\n",
       " -->\n",
       "<!-- Pages: 1 -->\n",
       "<svg width=\"460pt\" height=\"488pt\"\n",
       " viewBox=\"0.00 0.00 460.00 488.25\" xmlns=\"http://www.w3.org/2000/svg\" xmlns:xlink=\"http://www.w3.org/1999/xlink\">\n",
       "<g id=\"graph0\" class=\"graph\" transform=\"scale(1 1) rotate(0) translate(4 484.25)\">\n",
       "<polygon fill=\"white\" stroke=\"none\" points=\"-4,4 -4,-484.25 456,-484.25 456,4 -4,4\"/>\n",
       "<g id=\"clust1\" class=\"cluster\">\n",
       "<title>clusterparticipant (5) x trial (20)</title>\n",
       "<path fill=\"none\" stroke=\"black\" d=\"M121,-8C121,-8 296,-8 296,-8 302,-8 308,-14 308,-20 308,-20 308,-217.5 308,-217.5 308,-223.5 302,-229.5 296,-229.5 296,-229.5 121,-229.5 121,-229.5 115,-229.5 109,-223.5 109,-217.5 109,-217.5 109,-20 109,-20 109,-14 115,-8 121,-8\"/>\n",
       "<text text-anchor=\"middle\" x=\"208.5\" y=\"-15.95\" font-family=\"Times,serif\" font-size=\"14.00\">participant (5) x trial (20)</text>\n",
       "</g>\n",
       "<g id=\"clust2\" class=\"cluster\">\n",
       "<title>clusterparticipant (5) x item (3)</title>\n",
       "<path fill=\"none\" stroke=\"black\" d=\"M20,-346.5C20,-346.5 264,-346.5 264,-346.5 270,-346.5 276,-352.5 276,-358.5 276,-358.5 276,-460.25 276,-460.25 276,-466.25 270,-472.25 264,-472.25 264,-472.25 20,-472.25 20,-472.25 14,-472.25 8,-466.25 8,-460.25 8,-460.25 8,-358.5 8,-358.5 8,-352.5 14,-346.5 20,-346.5\"/>\n",
       "<text text-anchor=\"middle\" x=\"179.88\" y=\"-354.45\" font-family=\"Times,serif\" font-size=\"14.00\">participant (5) x item (3)</text>\n",
       "</g>\n",
       "<g id=\"clust3\" class=\"cluster\">\n",
       "<title>clusteritem (3) x trial (20)</title>\n",
       "<path fill=\"none\" stroke=\"black\" d=\"M296,-346.5C296,-346.5 432,-346.5 432,-346.5 438,-346.5 444,-352.5 444,-358.5 444,-358.5 444,-460.25 444,-460.25 444,-466.25 438,-472.25 432,-472.25 432,-472.25 296,-472.25 296,-472.25 290,-472.25 284,-466.25 284,-460.25 284,-460.25 284,-358.5 284,-358.5 284,-352.5 290,-346.5 296,-346.5\"/>\n",
       "<text text-anchor=\"middle\" x=\"367.75\" y=\"-354.45\" font-family=\"Times,serif\" font-size=\"14.00\">item (3) x trial (20)</text>\n",
       "</g>\n",
       "<g id=\"clust4\" class=\"cluster\">\n",
       "<title>clusterparticipant (5) x item (3) x trial (20)</title>\n",
       "<path fill=\"none\" stroke=\"black\" d=\"M117,-237.5C117,-237.5 365,-237.5 365,-237.5 371,-237.5 377,-243.5 377,-249.5 377,-249.5 377,-326.5 377,-326.5 377,-332.5 371,-338.5 365,-338.5 365,-338.5 117,-338.5 117,-338.5 111,-338.5 105,-332.5 105,-326.5 105,-326.5 105,-249.5 105,-249.5 105,-243.5 111,-237.5 117,-237.5\"/>\n",
       "<text text-anchor=\"middle\" x=\"240.75\" y=\"-245.45\" font-family=\"Times,serif\" font-size=\"14.00\">participant (5) x item (3) x trial (20)</text>\n",
       "</g>\n",
       "<!-- observed_response -->\n",
       "<g id=\"node1\" class=\"node\">\n",
       "<title>observed_response</title>\n",
       "<path fill=\"lightgrey\" stroke=\"black\" d=\"M272.25,-101C272.25,-101 143.75,-101 143.75,-101 137.75,-101 131.75,-95 131.75,-89 131.75,-89 131.75,-53.25 131.75,-53.25 131.75,-47.25 137.75,-41.25 143.75,-41.25 143.75,-41.25 272.25,-41.25 272.25,-41.25 278.25,-41.25 284.25,-47.25 284.25,-53.25 284.25,-53.25 284.25,-89 284.25,-89 284.25,-95 278.25,-101 272.25,-101\"/>\n",
       "<text text-anchor=\"middle\" x=\"208\" y=\"-83.7\" font-family=\"Times,serif\" font-size=\"14.00\">observed_response</text>\n",
       "<text text-anchor=\"middle\" x=\"208\" y=\"-66.45\" font-family=\"Times,serif\" font-size=\"14.00\">~</text>\n",
       "<text text-anchor=\"middle\" x=\"208\" y=\"-49.2\" font-family=\"Times,serif\" font-size=\"14.00\">Data</text>\n",
       "</g>\n",
       "<!-- response -->\n",
       "<g id=\"node2\" class=\"node\">\n",
       "<title>response</title>\n",
       "<ellipse fill=\"lightgrey\" stroke=\"black\" cx=\"208\" cy=\"-179.25\" rx=\"69.12\" ry=\"42.25\"/>\n",
       "<text text-anchor=\"middle\" x=\"208\" y=\"-191.82\" font-family=\"Times,serif\" font-size=\"14.00\">response</text>\n",
       "<text text-anchor=\"middle\" x=\"208\" y=\"-174.57\" font-family=\"Times,serif\" font-size=\"14.00\">~</text>\n",
       "<text text-anchor=\"middle\" x=\"208\" y=\"-157.32\" font-family=\"Times,serif\" font-size=\"14.00\">Categorical</text>\n",
       "</g>\n",
       "<!-- response&#45;&gt;observed_response -->\n",
       "<g id=\"edge1\" class=\"edge\">\n",
       "<title>response&#45;&gt;observed_response</title>\n",
       "<path fill=\"none\" stroke=\"black\" d=\"M208,-136.61C208,-128.74 208,-120.53 208,-112.69\"/>\n",
       "<polygon fill=\"black\" stroke=\"black\" points=\"211.5,-112.71 208,-102.71 204.5,-112.71 211.5,-112.71\"/>\n",
       "</g>\n",
       "<!-- participant_preference -->\n",
       "<g id=\"node3\" class=\"node\">\n",
       "<title>participant_preference</title>\n",
       "<ellipse fill=\"none\" stroke=\"black\" cx=\"142\" cy=\"-422\" rx=\"126.4\" ry=\"42.25\"/>\n",
       "<text text-anchor=\"middle\" x=\"142\" y=\"-434.57\" font-family=\"Times,serif\" font-size=\"14.00\">participant_preference</text>\n",
       "<text text-anchor=\"middle\" x=\"142\" y=\"-417.32\" font-family=\"Times,serif\" font-size=\"14.00\">~</text>\n",
       "<text text-anchor=\"middle\" x=\"142\" y=\"-400.07\" font-family=\"Times,serif\" font-size=\"14.00\">ZeroSumNormal</text>\n",
       "</g>\n",
       "<!-- trial_preference -->\n",
       "<g id=\"node5\" class=\"node\">\n",
       "<title>trial_preference</title>\n",
       "<polygon fill=\"none\" stroke=\"black\" points=\"273,-330.5 143,-330.5 143,-270.75 273,-270.75 273,-330.5\"/>\n",
       "<text text-anchor=\"middle\" x=\"208\" y=\"-313.2\" font-family=\"Times,serif\" font-size=\"14.00\">trial_preference</text>\n",
       "<text text-anchor=\"middle\" x=\"208\" y=\"-295.95\" font-family=\"Times,serif\" font-size=\"14.00\">~</text>\n",
       "<text text-anchor=\"middle\" x=\"208\" y=\"-278.7\" font-family=\"Times,serif\" font-size=\"14.00\">Deterministic</text>\n",
       "</g>\n",
       "<!-- participant_preference&#45;&gt;trial_preference -->\n",
       "<g id=\"edge2\" class=\"edge\">\n",
       "<title>participant_preference&#45;&gt;trial_preference</title>\n",
       "<path fill=\"none\" stroke=\"black\" d=\"M164.53,-380.25C171.6,-367.46 179.39,-353.37 186.39,-340.7\"/>\n",
       "<polygon fill=\"black\" stroke=\"black\" points=\"189.31,-342.66 191.09,-332.22 183.18,-339.28 189.31,-342.66\"/>\n",
       "</g>\n",
       "<!-- time_effects -->\n",
       "<g id=\"node4\" class=\"node\">\n",
       "<title>time_effects</title>\n",
       "<ellipse fill=\"none\" stroke=\"black\" cx=\"364\" cy=\"-422\" rx=\"72.3\" ry=\"42.25\"/>\n",
       "<text text-anchor=\"middle\" x=\"364\" y=\"-434.57\" font-family=\"Times,serif\" font-size=\"14.00\">time_effects</text>\n",
       "<text text-anchor=\"middle\" x=\"364\" y=\"-417.32\" font-family=\"Times,serif\" font-size=\"14.00\">~</text>\n",
       "<text text-anchor=\"middle\" x=\"364\" y=\"-400.07\" font-family=\"Times,serif\" font-size=\"14.00\">Normal</text>\n",
       "</g>\n",
       "<!-- time_effects&#45;&gt;trial_preference -->\n",
       "<g id=\"edge3\" class=\"edge\">\n",
       "<title>time_effects&#45;&gt;trial_preference</title>\n",
       "<path fill=\"none\" stroke=\"black\" d=\"M326.67,-385.47C312.5,-372.64 295.93,-358.4 280,-346.5 275.8,-343.36 271.37,-340.22 266.86,-337.15\"/>\n",
       "<polygon fill=\"black\" stroke=\"black\" points=\"269.06,-334.42 258.8,-331.8 265.19,-340.25 269.06,-334.42\"/>\n",
       "</g>\n",
       "<!-- trial_preference&#45;&gt;response -->\n",
       "<g id=\"edge4\" class=\"edge\">\n",
       "<title>trial_preference&#45;&gt;response</title>\n",
       "<path fill=\"none\" stroke=\"black\" d=\"M208,-270.42C208,-259.1 208,-245.79 208,-232.91\"/>\n",
       "<polygon fill=\"black\" stroke=\"black\" points=\"211.5,-233.29 208,-223.29 204.5,-233.29 211.5,-233.29\"/>\n",
       "</g>\n",
       "</g>\n",
       "</svg>\n"
      ],
      "text/plain": [
       "<graphviz.graphs.Digraph at 0x7fb89cd17740>"
      ]
     },
     "execution_count": 7,
     "metadata": {},
     "output_type": "execute_result"
    }
   ],
   "source": [
    "dmodel.to_graphviz()"
   ]
  },
  {
   "cell_type": "markdown",
   "id": "24f2cafa1500f08a",
   "metadata": {},
   "source": [
    "We can also check that the models are equivalent by comparing the `logp` of each variable evaluated at the initial_point."
   ]
  },
  {
   "cell_type": "code",
   "execution_count": 8,
   "id": "11073d9b67a72f72",
   "metadata": {
    "ExecuteTime": {
     "end_time": "2025-06-30T15:53:34.534342Z",
     "start_time": "2025-06-30T15:53:30.457494Z"
    }
   },
   "outputs": [
    {
     "name": "stdout",
     "output_type": "stream",
     "text": [
      "{'participant_preference': np.float64(-9.19), 'time_effects': np.float64(-55.14), 'response': np.float64(-109.86)}\n",
      "{'participant_preference': np.float64(-9.19), 'time_effects': np.float64(-55.14), 'response': np.float64(-109.86)}\n"
     ]
    }
   ],
   "source": [
    "print(model.point_logps())\n",
    "print(dmodel.point_logps())"
   ]
  },
  {
   "cell_type": "markdown",
   "id": "ee981114897c7ee0",
   "metadata": {
    "ExecuteTime": {
     "end_time": "2025-06-26T21:31:08.349480Z",
     "start_time": "2025-06-26T21:31:07.387385Z"
    }
   },
   "source": [
    "## A brief look under the hood"
   ]
  },
  {
   "cell_type": "markdown",
   "id": "e360b5f5e9e8ca1e",
   "metadata": {},
   "source": [
    "The {mod}`pymc.dims` module functionality is built on top of the experimental {mod}`pytensor.xtensor` module in PyTensor, which is the {lib}`xarray` analogoue of the {mod}`pytensor.tensor` module you may be familiar with (see {doc}`pymc_and_pytensor`).\n",
    "\n",
    "Whereas regular distributions and math operations return {class}`~pytensor.tensor.TensorVariable` objects, the corresponding functions in the {mod}`pymc.dims` module returns {class}`~pytensor.xtensor.type.XTensorVariable` objects. These are very similar to {class}`~pytensor.tensor.TensorVariable`, but they have a `dims` attribute that determines their behavior."
   ]
  },
  {
   "cell_type": "markdown",
   "id": "5a1fa8ecb7309782",
   "metadata": {},
   "source": [
    "As an example, we'll create a regular {class}`~pymc.Normal` random variable with 3 elements, and perform an outer addition on them using NumPy syntax."
   ]
  },
  {
   "cell_type": "code",
   "execution_count": 9,
   "id": "9bece958e432c369",
   "metadata": {
    "ExecuteTime": {
     "end_time": "2025-06-30T15:53:34.611874Z",
     "start_time": "2025-06-30T15:53:34.598883Z"
    }
   },
   "outputs": [
    {
     "data": {
      "text/plain": [
       "TensorType(float64, shape=(3,))"
      ]
     },
     "execution_count": 9,
     "metadata": {},
     "output_type": "execute_result"
    }
   ],
   "source": [
    "regular_normal = pm.Normal.dist(mu=pm.math.as_tensor([0, 1, 2]), sigma=1, shape=(3,))\n",
    "regular_normal.type"
   ]
  },
  {
   "cell_type": "code",
   "execution_count": 10,
   "id": "5c0aa77e31170c54",
   "metadata": {
    "ExecuteTime": {
     "end_time": "2025-06-30T15:53:34.700430Z",
     "start_time": "2025-06-30T15:53:34.693544Z"
    }
   },
   "outputs": [
    {
     "data": {
      "text/plain": [
       "pytensor.tensor.variable.TensorVariable"
      ]
     },
     "execution_count": 10,
     "metadata": {},
     "output_type": "execute_result"
    }
   ],
   "source": [
    "type(regular_normal)"
   ]
  },
  {
   "cell_type": "code",
   "execution_count": 11,
   "id": "d77168a8c6e89de9",
   "metadata": {
    "ExecuteTime": {
     "end_time": "2025-06-30T15:53:34.805130Z",
     "start_time": "2025-06-30T15:53:34.792870Z"
    }
   },
   "outputs": [
    {
     "data": {
      "text/plain": [
       "TensorType(float64, shape=(3, 3))"
      ]
     },
     "execution_count": 11,
     "metadata": {},
     "output_type": "execute_result"
    }
   ],
   "source": [
    "outer_addition = regular_normal[:, None] + regular_normal[None, :]\n",
    "outer_addition.type"
   ]
  },
  {
   "cell_type": "code",
   "execution_count": 12,
   "id": "ac95fe88c1877fbe",
   "metadata": {
    "ExecuteTime": {
     "end_time": "2025-06-30T15:53:34.930130Z",
     "start_time": "2025-06-30T15:53:34.887799Z"
    },
    "scrolled": true
   },
   "outputs": [
    {
     "data": {
      "text/plain": [
       "array([[0.61284312, 1.68384684, 1.72225487],\n",
       "       [1.68384684, 2.75485056, 2.79325859],\n",
       "       [1.72225487, 2.79325859, 2.83166662]])"
      ]
     },
     "execution_count": 12,
     "metadata": {},
     "output_type": "execute_result"
    }
   ],
   "source": [
    "pm.draw(outer_addition, random_seed=rng)"
   ]
  },
  {
   "cell_type": "markdown",
   "id": "b7d78e2f3984adbc",
   "metadata": {},
   "source": [
    "Here's the same operation with a dimmed `Normal` variable. It requires the use of `rename`."
   ]
  },
  {
   "cell_type": "code",
   "execution_count": 13,
   "id": "4d9e8417789d4c18",
   "metadata": {
    "ExecuteTime": {
     "end_time": "2025-06-30T15:53:35.055530Z",
     "start_time": "2025-06-30T15:53:35.045241Z"
    }
   },
   "outputs": [
    {
     "data": {
      "text/plain": [
       "XTensorType(float64, shape=(3,), dims=('a',))"
      ]
     },
     "execution_count": 13,
     "metadata": {},
     "output_type": "execute_result"
    }
   ],
   "source": [
    "dims_normal = pmd.Normal.dist(mu=pmd.math.as_xtensor([0, 1, 2], dims=(\"a\",)), sigma=1)\n",
    "dims_normal.type"
   ]
  },
  {
   "cell_type": "code",
   "execution_count": 14,
   "id": "1d0c30011c910370",
   "metadata": {
    "ExecuteTime": {
     "end_time": "2025-06-30T15:53:35.264315Z",
     "start_time": "2025-06-30T15:53:35.256071Z"
    }
   },
   "outputs": [
    {
     "data": {
      "text/plain": [
       "pytensor.xtensor.type.XTensorVariable"
      ]
     },
     "execution_count": 14,
     "metadata": {},
     "output_type": "execute_result"
    }
   ],
   "source": [
    "type(dims_normal)"
   ]
  },
  {
   "cell_type": "code",
   "execution_count": 15,
   "id": "923e75f235dcf219",
   "metadata": {
    "ExecuteTime": {
     "end_time": "2025-06-30T15:53:35.472551Z",
     "start_time": "2025-06-30T15:53:35.465427Z"
    }
   },
   "outputs": [
    {
     "data": {
      "text/plain": [
       "XTensorType(float64, shape=(3, 3), dims=('a', 'b'))"
      ]
     },
     "execution_count": 15,
     "metadata": {},
     "output_type": "execute_result"
    }
   ],
   "source": [
    "outer_addition = dims_normal + dims_normal.rename({\"a\": \"b\"})\n",
    "outer_addition.type"
   ]
  },
  {
   "cell_type": "code",
   "execution_count": 16,
   "id": "cd9e2a2634a0e898",
   "metadata": {
    "ExecuteTime": {
     "end_time": "2025-06-30T15:53:35.758679Z",
     "start_time": "2025-06-30T15:53:35.649256Z"
    }
   },
   "outputs": [
    {
     "data": {
      "text/plain": [
       "array([[ 3.76355516,  0.31059132,  6.5420105 ],\n",
       "       [ 0.31059132, -3.14237253,  3.08904666],\n",
       "       [ 6.5420105 ,  3.08904666,  9.32046584]])"
      ]
     },
     "execution_count": 16,
     "metadata": {},
     "output_type": "execute_result"
    }
   ],
   "source": [
    "pm.draw(outer_addition, random_seed=rng)"
   ]
  },
  {
   "cell_type": "markdown",
   "id": "90d65f41-2279-4205-bc2e-c5446a176c61",
   "metadata": {},
   "source": [
    ":::{tip} Note that there are no coordinates anywhere in the graph. {class}`~pytensor.xtensor.type.XTensorVariable`s behave like xarray DataArrays **without** coords. Dims determine the dimension meaning and alignment, but no extra work can be done to reason within a dim. We discuss this limitation in more detail at the end.:::"
   ]
  },
  {
   "cell_type": "markdown",
   "id": "e12c7cda782cac69",
   "metadata": {
    "ExecuteTime": {
     "end_time": "2025-06-26T21:31:08.365035095Z",
     "start_time": "2025-06-26T11:42:19.021166Z"
    }
   },
   "source": [
    "## Redundant (or implicit) dims"
   ]
  },
  {
   "cell_type": "markdown",
   "id": "4ac4877e24859dfe",
   "metadata": {},
   "source": [
    "When defining deterministic operations or creating variables whose dimension are all implied by the parameters, there's no need to specify the `dims` argument, as PyMC will automatically know them.\n",
    "\n",
    "However, some users might want to specify `dims` anyway, to check that the dimensions of the variables are as expected, or to provide type hints for someone reading the model.\n",
    "\n",
    "PyMC allows specifying dimensions in these cases. To reduce confusion, the output will always be transposed to be aligned with the user-specified dims."
   ]
  },
  {
   "cell_type": "code",
   "execution_count": 17,
   "id": "cd6031d682b88e51",
   "metadata": {
    "ExecuteTime": {
     "end_time": "2025-06-30T15:53:35.989010Z",
     "start_time": "2025-06-30T15:53:35.965369Z"
    }
   },
   "outputs": [
    {
     "name": "stdout",
     "output_type": "stream",
     "text": [
      "det_implicit_dims.dims=('a', 'b')\n",
      "det_explicit_dims.dims=('a', 'b')\n",
      "det_transposed_dims.dims=('b', 'a')\n"
     ]
    }
   ],
   "source": [
    "with pm.Model(coords={\"a\": range(2), \"b\": range(5)}) as example:\n",
    "    x = pmd.Normal(\"x\", dims=(\"a\", \"b\"))\n",
    "    det_implicit_dims = pmd.Deterministic(\"det1\", x + 1)\n",
    "    det_explicit_dims = pmd.Deterministic(\"det2\", x + 1, dims=(\"a\", \"b\"))\n",
    "    det_transposed_dims = pmd.Deterministic(\"y\", x + 1, dims=(\"b\", \"a\"))\n",
    "\n",
    "print(f\"{det_implicit_dims.dims=}\")\n",
    "print(f\"{det_explicit_dims.dims=}\")\n",
    "print(f\"{det_transposed_dims.dims=}\")"
   ]
  },
  {
   "cell_type": "markdown",
   "id": "db657b20b447c56a",
   "metadata": {
    "ExecuteTime": {
     "end_time": "2025-06-26T21:31:08.365174897Z",
     "start_time": "2025-06-26T11:42:19.389561Z"
    }
   },
   "source": [
    "This happens with `Deterministic`, `Potential` and every distribution in the `dims` module.\n",
    "Any time you specify `dims`, you will get back a variable with dimensions in the same order."
   ]
  },
  {
   "cell_type": "markdown",
   "id": "e5f73575a51d316a",
   "metadata": {},
   "source": [
    "Furthermore -- and unlike regular PyMC objects -- it is now valid to use ellipsis in the `dims` argument.\n",
    "As in an Xarray `transpose`, it means all the other dimensions should stay in the same order."
   ]
  },
  {
   "cell_type": "code",
   "execution_count": 18,
   "id": "a1e3597de136004f",
   "metadata": {
    "ExecuteTime": {
     "end_time": "2025-06-30T15:53:36.397445Z",
     "start_time": "2025-06-30T15:53:36.371682Z"
    }
   },
   "outputs": [
    {
     "name": "stdout",
     "output_type": "stream",
     "text": [
      "det_ellipsis1.dims=('a', 'b')\n",
      "det_ellipsis2.dims=('b', 'a')\n",
      "det_ellipsis3.dims=('b', 'a')\n"
     ]
    }
   ],
   "source": [
    "with pm.Model(coords={\"a\": range(2), \"b\": range(5)}) as example:\n",
    "    x = pmd.Normal(\"x\", dims=(\"a\", \"b\"))\n",
    "    det_ellipsis1 = pmd.Deterministic(\"det1\", x + 1, dims=(...,))\n",
    "    det_ellipsis2 = pmd.Deterministic(\"det2\", x + 1, dims=(..., \"a\"))\n",
    "    det_ellipsis3 = pmd.Deterministic(\"det3\", x + 1, dims=(\"b\", ...))\n",
    "\n",
    "print(f\"{det_ellipsis1.dims=}\")\n",
    "print(f\"{det_ellipsis2.dims=}\")\n",
    "print(f\"{det_ellipsis3.dims=}\")"
   ]
  },
  {
   "cell_type": "markdown",
   "id": "318c563fb2eb106b",
   "metadata": {},
   "source": [
    "## What functionality is supported?"
   ]
  },
  {
   "cell_type": "markdown",
   "id": "88acbfae651fe294",
   "metadata": {
    "jp-MarkdownHeadingCollapsed": true
   },
   "source": [
    "The documentation is still a work in progress, and there is no complete list of distributions and operations that are supported just yet. \n",
    "\n",
    "#### Model constructors\n",
    "\n",
    "The following PyMC model constructors are available in the `dims` module.\n",
    "\n",
    "  * {func}`~pymc.dims.Data`\n",
    "  * {func}`~pymc.dims.Deterministic`\n",
    "  * {func}`~pymc.dims.Potential`\n",
    "\n",
    "They all return {class}`~pytensor.xtensor.type.XTensorVariable` objects, and either infer `dims` from the input or require the user to specify them explicitly. If they can be inferred, it is possible to transpose and use ellipsis in the `dims` argument, as described above.\n",
    "\n",
    "#### Distributions\n",
    "\n",
    "We want to offer all the existing distributions and parametrizations under the {mod}`pymc.dims` module, with the following expected API differences:\n",
    "\n",
    " * All vector arguments (and observed values) must have known dims. An error is raised otherwise.\n",
    "\n",
    " * Distributions with non-scalar inputs will require a `core_dims` argument. The meaning of the `core_dims` argument will be denoted in the docstrings of each distribution. For example, for the MvNormal, the `core_dims` are the two dimensions of the covariance matrix, one (and only one) of which must also be present in the mean parameter. The shared `core_dim` is the one that persists in the output. Sometimes the order of `core_dims` will be important!\n",
    "\n",
    " * `dims` accept ellipsis, and variables are transposed to match the user-specified `dims` argument.\n",
    "\n",
    " * `shape` and `size` cannot be provided.\n",
    "\n",
    " * The {meth}`~pymc.distributions.core.DimDistribution.dist` method accepts a `dims_length` argument, of the form `{dim_name: dim_length}`.\n",
    "\n",
    " * Only transforms defined in {mod}`pymc.dims.transforms` can be used with distributions from the module.\n",
    "\n",
    "#### Operations on variables\n",
    "\n",
    "Calling a PyMC distribution from the {mod}`pymc.dims` module returns an {class}`~pytensor.xtensor.type.XTensorVariable`.\n",
    "\n",
    "The expectation is that every {class}`xarray.DataArray` method in Xarray should have an equivalent version for XTensorVariables. So if you can do `x.diff(dim=\"a\")` in Xarray, you should be able to do `x.diff(dim=\"a\")` with XTensorVariables as well.\n",
    "\n",
    "In addition, many numerical operations are available in the {mod}`pymc.dims.math` module, which provides a superset of `ufuncs` functions found in Xarray (like `exp`). It also includes submodules such as `linalg` that provide counterpart to libraries like {lib}`xarray_einstats` (such as `linalg.solve`).\n",
    "\n",
    "Finally, functions that are available at the module level in Xarray (like `concat`) are also available in the {mod}`pymc.dims` namespace.\n",
    "\n",
    "You can find the original documentation of these functions and methods in the {doc}`PyTensor Xtensor docs <pytensor:libdoc_xtensor>`\n",
    "\n",
    "To facilitate adoption of these functions and methods, we try to follow the same API used by Xarray and related packages. However, some methods or keyword arguments won't be supported explicitly (like {meth}`~pytensor.xtensor.XTensorVariable.sel`, more on that at the end), in which case an informative error or warning will be raised.\n",
    "\n",
    "If you find an API difference or some missing functionality, and no reason is provided, please [open an issue](https://github.com/pymc-devs/pymc/issues) to let us know (after checking nobody has done it already).\n",
    "\n",
    "In the meantime, the next section provides some hints on how to make use of pre-existing functionality in PyMC/PyTensor."
   ]
  },
  {
   "cell_type": "markdown",
   "id": "98a94f5939872e75",
   "metadata": {
    "ExecuteTime": {
     "end_time": "2025-06-26T21:31:08.365484979Z",
     "start_time": "2025-06-26T11:42:19.577389Z"
    }
   },
   "source": [
    "## Combining dims module with the old API"
   ]
  },
  {
   "cell_type": "markdown",
   "id": "3d305a2bb8313704",
   "metadata": {},
   "source": [
    "Because the {mod}`pymc.dims` module is more recent, it does not offer all the functionality of the old API.\n",
    "\n",
    "You can always combine the two APIs by converting the variables explicitly. To obtain a regular non-dimmed variable from a dimmed variable, you can use {attr}`~pytensor.xtensor.type.XTensorVariable.values` (like in Xarray) or the more verbose {func}`pymc.dims.tensor_from_xtensor`.\n",
    "\n",
    "Otherwise, if you try to pass an {class}`~pytensor.xtensor.type.XTensorVariable` to a function or distribution that does not support it, you will usually see an error like this:"
   ]
  },
  {
   "cell_type": "code",
   "execution_count": 19,
   "id": "df3d1f1ce895d02e",
   "metadata": {},
   "outputs": [
    {
     "name": "stdout",
     "output_type": "stream",
     "text": [
      "TypeError: To avoid subtle bugs, PyTensor forbids automatic conversion of XTensorVariable to TensorVariable.\n",
      "You can convert explicitly using `x.values` or pass `allow_xtensor_conversion=True`.\n"
     ]
    }
   ],
   "source": [
    "mu = pmd.math.as_xtensor([0, 1, 2], dims=(\"a\",))\n",
    "try:\n",
    "    pm.Normal.dist(mu=mu)\n",
    "except TypeError as e:\n",
    "    print(f\"{e.__class__.__name__}: {e}\")"
   ]
  },
  {
   "cell_type": "code",
   "execution_count": 20,
   "id": "335b094a6cdd0bd8",
   "metadata": {
    "ExecuteTime": {
     "end_time": "2025-06-30T15:53:36.767188Z",
     "start_time": "2025-06-30T15:53:36.745075Z"
    }
   },
   "outputs": [
    {
     "data": {
      "text/plain": [
       "TensorType(float64, shape=(None, None))"
      ]
     },
     "execution_count": 20,
     "metadata": {},
     "output_type": "execute_result"
    }
   ],
   "source": [
    "pm.Normal.dist(mu=x.values).type"
   ]
  },
  {
   "cell_type": "markdown",
   "id": "eca88323e2529a57",
   "metadata": {},
   "source": [
    "The order of the dimensions follows that specified in the {attr}`~pytensor.xtensor.type.XTensorVariable.dims` property. To be sure this matches the expectation you can use a {meth}`~pytensor.xtensor.type.XTensorVariable.transpose` operation to reorder the dimensions before converting to a regular variable."
   ]
  },
  {
   "cell_type": "markdown",
   "id": "9e256f247d3bd9e1",
   "metadata": {
    "ExecuteTime": {
     "end_time": "2025-06-26T21:31:08.365732804Z",
     "start_time": "2025-06-26T11:42:19.755931Z"
    }
   },
   "source": [
    "Conversely, if you try to pass a regular variable to a function or distribution that expects an XTensorVariable, you will see an error like this:"
   ]
  },
  {
   "cell_type": "code",
   "execution_count": 21,
   "id": "380f7161ca2d22e4",
   "metadata": {
    "ExecuteTime": {
     "end_time": "2025-06-30T15:53:36.879320Z",
     "start_time": "2025-06-30T15:53:36.868282Z"
    }
   },
   "outputs": [
    {
     "name": "stdout",
     "output_type": "stream",
     "text": [
      "ValueError: Variable mu_x{[0 1 2]} must have dims associated with it.\n",
      "To avoid subtle bugs, PyMC does not make any assumptions about the dims of parameters.\n",
      "Use `as_xtensor` with the `dims` keyword argument to specify the dims explicitly.\n"
     ]
    }
   ],
   "source": [
    "mu = pm.math.as_tensor([0, 1, 2], name=\"mu_x\")\n",
    "try:\n",
    "    x = pmd.Normal.dist(mu=mu)\n",
    "except Exception as e:\n",
    "    print(f\"{e.__class__.__name__}: {e}\")"
   ]
  },
  {
   "cell_type": "markdown",
   "id": "e507c0a8e76447fd",
   "metadata": {
    "ExecuteTime": {
     "end_time": "2025-06-26T21:31:08.365847399Z",
     "start_time": "2025-06-26T11:42:19.826864Z"
    }
   },
   "source": [
    "Which you can avoid by explicitly converting the variable to a dimmed variable:"
   ]
  },
  {
   "cell_type": "code",
   "execution_count": 22,
   "id": "b50363261fe81df6",
   "metadata": {
    "ExecuteTime": {
     "end_time": "2025-06-30T15:53:37.226477Z",
     "start_time": "2025-06-30T15:53:37.204756Z"
    }
   },
   "outputs": [
    {
     "data": {
      "text/plain": [
       "XTensorType(float64, shape=(3,), dims=('a',))"
      ]
     },
     "execution_count": 22,
     "metadata": {},
     "output_type": "execute_result"
    }
   ],
   "source": [
    "pmd.Normal.dist(mu=pmd.as_xtensor(mu, dims=(\"a\",))).type"
   ]
  },
  {
   "cell_type": "markdown",
   "id": "3f2202b55cbc8c4",
   "metadata": {},
   "source": [
    "#### Applied example\n",
    "\n",
    "To put this to practice, let's write a model that uses the {class}`~pymc.LKJCholeskyCov` distribution, which at the time of writing is not yet available in the {mod}`pymc.dims` module."
   ]
  },
  {
   "cell_type": "code",
   "execution_count": 23,
   "id": "195f6f509e797f9a",
   "metadata": {},
   "outputs": [
    {
     "name": "stdout",
     "output_type": "stream",
     "text": [
      "chol_xr.dims=('core1', 'core2')\n",
      "mu.dims=('batch', 'core1')\n",
      "y.dims=('batch', 'core1')\n"
     ]
    }
   ],
   "source": [
    "with pm.Model(coords={\"core1\": range(3), \"core2\": range(3), \"batch\": range(5)}) as mixed_api_model:\n",
    "    chol, _, _ = pm.LKJCholeskyCov(\n",
    "        \"chol\",\n",
    "        eta=1,\n",
    "        n=3,\n",
    "        sd_dist=pm.Exponential.dist(1),\n",
    "    )\n",
    "    chol_xr = pmd.as_xtensor(chol, dims=(\"core1\", \"core2\"))\n",
    "\n",
    "    mu = pmd.Normal(\"mu\", dims=(\"batch\", \"core1\"))\n",
    "    y = pmd.MvNormal(\n",
    "        \"y\",\n",
    "        mu,\n",
    "        chol=chol_xr,\n",
    "        core_dims=(\"core1\", \"core2\"),\n",
    "    )\n",
    "\n",
    "print(f\"{chol_xr.dims=}\")\n",
    "print(f\"{mu.dims=}\")\n",
    "print(f\"{y.dims=}\")"
   ]
  },
  {
   "cell_type": "markdown",
   "id": "3f0dd0fea61f8862",
   "metadata": {
    "ExecuteTime": {
     "end_time": "2025-06-26T21:31:08.366068103Z",
     "start_time": "2025-06-26T11:42:19.946909Z"
    }
   },
   "source": [
    "Note that we had to pass a \"regular\" {class}`~pymc.Exponential` distribution to the {class}`~pymc.LKJCholeskyCov` constructor. In general, distribution \"factories\" which are parametrized by unnamed distributions created with {meth}`~pymc.distributions.distribution.Distribution.dist` won't work with variables created with the {mod}`pymc.dims` module."
   ]
  },
  {
   "cell_type": "markdown",
   "id": "6464ae49ff629660",
   "metadata": {},
   "source": [
    "## Case study: a splines model begging for vectorization"
   ]
  },
  {
   "cell_type": "markdown",
   "id": "c7c622bbde1c675",
   "metadata": {},
   "source": [
    "The model below was presented by a user in a bug report. While granting that the author might have written the model this way to provide a reproducible example, we can say that the model is written in a highly suboptimal form. Specifically it misses (or actively breaks) many opportunities for vectorization. Seasoned Python programmers will know that python loops are SLOW, and that tools like numpy provide a way to escape from this handicap.\n",
    "\n",
    "PyMC code is not exactly numpy, for starters it uses a lazy symbolic computation library (PyTensor) that generates compiled code on demand. But it very much likes to be given numpy-like code. To begin with these graphs are much smaller and therefore easier to reason about (in fact the original bug could only be triggered for graphs with more than 500 nodes). Secondly, numpy-like graphs naturally translate to vectorized CPU and GPU code, which you want at the end of the day."
   ]
  },
  {
   "cell_type": "code",
   "execution_count": 24,
   "id": "726f696e6bf17d44",
   "metadata": {
    "ExecuteTime": {
     "end_time": "2025-06-30T15:53:39.748768Z",
     "start_time": "2025-06-30T15:53:39.740157Z"
    }
   },
   "outputs": [],
   "source": [
    "# Simulated data of some spline\n",
    "N = 500\n",
    "x_np = np.linspace(0, 10, N)\n",
    "y_obs_np = np.piecewise(\n",
    "    x_np,\n",
    "    [x_np <= 3, (x_np > 3) & (x_np <= 7), x_np > 7],\n",
    "    [lambda x: 0.5 * x, lambda x: 1.5 + 0.2 * (x - 3), lambda x: 2.3 - 0.1 * (x - 7)],\n",
    ")\n",
    "y_obs_np += rng.normal(0, 0.2, size=N)  # Add noise\n",
    "\n",
    "# Artificial groups\n",
    "groups = [0, 1, 2]\n",
    "group_idx_np = np.random.choice(groups, size=N)\n",
    "\n",
    "n_knots = 50\n",
    "knots_np = np.linspace(0, 10, num=n_knots)"
   ]
  },
  {
   "cell_type": "code",
   "execution_count": 25,
   "id": "2e8519125d17f0c8",
   "metadata": {
    "ExecuteTime": {
     "end_time": "2025-06-30T15:53:40.367851Z",
     "start_time": "2025-06-30T15:53:39.854962Z"
    }
   },
   "outputs": [],
   "source": [
    "with pm.Model() as non_vectorized_splines_model:\n",
    "    sigma_beta0 = pm.HalfNormal(\"sigma_beta0\", sigma=10)\n",
    "    sigma = pm.HalfCauchy(\"sigma\", beta=1)\n",
    "\n",
    "    # Create likelihood per group\n",
    "    for gr in groups:\n",
    "        idx = group_idx_np == gr\n",
    "\n",
    "        beta0 = pm.HalfNormal(f\"beta0_{gr}\", sigma=sigma_beta0)\n",
    "        z = pm.Normal(f\"z_{gr}\", mu=0, sigma=2, shape=n_knots)\n",
    "\n",
    "        delta_factors = pm.math.softmax(z)\n",
    "        slope_factors = 1 - pm.math.cumsum(delta_factors[:-1])\n",
    "        spline_slopes = pm.math.stack(\n",
    "            [beta0] + [beta0 * slope_factors[i] for i in range(n_knots - 1)]\n",
    "        )\n",
    "        beta = pm.Deterministic(\n",
    "            f\"beta_{gr}\",\n",
    "            pm.math.concatenate(([beta0], pm.math.diff(spline_slopes))),\n",
    "        )\n",
    "\n",
    "        hinge_terms = [pm.math.maximum(0, x_np[idx] - knot) for knot in knots_np]\n",
    "        X = pm.math.stack([hinge_terms[i] for i in range(n_knots)], axis=1)\n",
    "\n",
    "        mu = pm.math.dot(X, beta)\n",
    "\n",
    "        pm.Normal(f\"y_{gr}\", mu=mu, sigma=sigma, observed=y_obs_np[idx])"
   ]
  },
  {
   "cell_type": "code",
   "execution_count": 26,
   "id": "c56dcb51a07a5b54",
   "metadata": {
    "ExecuteTime": {
     "end_time": "2025-06-30T15:53:40.700094Z",
     "start_time": "2025-06-30T15:53:40.463806Z"
    }
   },
   "outputs": [
    {
     "data": {
      "image/svg+xml": [
       "<?xml version=\"1.0\" encoding=\"UTF-8\" standalone=\"no\"?>\n",
       "<!DOCTYPE svg PUBLIC \"-//W3C//DTD SVG 1.1//EN\"\n",
       " \"http://www.w3.org/Graphics/SVG/1.1/DTD/svg11.dtd\">\n",
       "<!-- Generated by graphviz version 12.2.1 (20250203.1708)\n",
       " -->\n",
       "<!-- Pages: 1 -->\n",
       "<svg width=\"999pt\" height=\"496pt\"\n",
       " viewBox=\"0.00 0.00 998.59 496.12\" xmlns=\"http://www.w3.org/2000/svg\" xmlns:xlink=\"http://www.w3.org/1999/xlink\">\n",
       "<g id=\"graph0\" class=\"graph\" transform=\"scale(1 1) rotate(0) translate(4 492.12)\">\n",
       "<polygon fill=\"white\" stroke=\"none\" points=\"-4,4 -4,-492.12 994.59,-492.12 994.59,4 -4,4\"/>\n",
       "<g id=\"clust1\" class=\"cluster\">\n",
       "<title>cluster50</title>\n",
       "<path fill=\"none\" stroke=\"black\" d=\"M156.53,-141.75C156.53,-141.75 526.53,-141.75 526.53,-141.75 532.53,-141.75 538.53,-147.75 538.53,-153.75 538.53,-153.75 538.53,-363.62 538.53,-363.62 538.53,-369.62 532.53,-375.62 526.53,-375.62 526.53,-375.62 156.53,-375.62 156.53,-375.62 150.53,-375.62 144.53,-369.62 144.53,-363.62 144.53,-363.62 144.53,-153.75 144.53,-153.75 144.53,-147.75 150.53,-141.75 156.53,-141.75\"/>\n",
       "<text text-anchor=\"middle\" x=\"521.53\" y=\"-149.7\" font-family=\"Times,serif\" font-size=\"14.00\">50</text>\n",
       "</g>\n",
       "<g id=\"clust2\" class=\"cluster\">\n",
       "<title>cluster176</title>\n",
       "<path fill=\"none\" stroke=\"black\" d=\"M241.53,-8C241.53,-8 331.53,-8 331.53,-8 337.53,-8 343.53,-14 343.53,-20 343.53,-20 343.53,-121.75 343.53,-121.75 343.53,-127.75 337.53,-133.75 331.53,-133.75 331.53,-133.75 241.53,-133.75 241.53,-133.75 235.53,-133.75 229.53,-127.75 229.53,-121.75 229.53,-121.75 229.53,-20 229.53,-20 229.53,-14 235.53,-8 241.53,-8\"/>\n",
       "<text text-anchor=\"middle\" x=\"322.03\" y=\"-15.95\" font-family=\"Times,serif\" font-size=\"14.00\">176</text>\n",
       "</g>\n",
       "<g id=\"clust3\" class=\"cluster\">\n",
       "<title>cluster175</title>\n",
       "<path fill=\"none\" stroke=\"black\" d=\"M43.53,-8C43.53,-8 133.53,-8 133.53,-8 139.53,-8 145.53,-14 145.53,-20 145.53,-20 145.53,-121.75 145.53,-121.75 145.53,-127.75 139.53,-133.75 133.53,-133.75 133.53,-133.75 43.53,-133.75 43.53,-133.75 37.53,-133.75 31.53,-127.75 31.53,-121.75 31.53,-121.75 31.53,-20 31.53,-20 31.53,-14 37.53,-8 43.53,-8\"/>\n",
       "<text text-anchor=\"middle\" x=\"124.03\" y=\"-15.95\" font-family=\"Times,serif\" font-size=\"14.00\">175</text>\n",
       "</g>\n",
       "<g id=\"clust4\" class=\"cluster\">\n",
       "<title>cluster149</title>\n",
       "<path fill=\"none\" stroke=\"black\" d=\"M406.53,-8C406.53,-8 496.53,-8 496.53,-8 502.53,-8 508.53,-14 508.53,-20 508.53,-20 508.53,-121.75 508.53,-121.75 508.53,-127.75 502.53,-133.75 496.53,-133.75 496.53,-133.75 406.53,-133.75 406.53,-133.75 400.53,-133.75 394.53,-127.75 394.53,-121.75 394.53,-121.75 394.53,-20 394.53,-20 394.53,-14 400.53,-8 406.53,-8\"/>\n",
       "<text text-anchor=\"middle\" x=\"487.03\" y=\"-15.95\" font-family=\"Times,serif\" font-size=\"14.00\">149</text>\n",
       "</g>\n",
       "<!-- beta0_1 -->\n",
       "<g id=\"node1\" class=\"node\">\n",
       "<title>beta0_1</title>\n",
       "<ellipse fill=\"none\" stroke=\"black\" cx=\"614.53\" cy=\"-325.37\" rx=\"68.06\" ry=\"42.25\"/>\n",
       "<text text-anchor=\"middle\" x=\"614.53\" y=\"-337.95\" font-family=\"Times,serif\" font-size=\"14.00\">beta0_1</text>\n",
       "<text text-anchor=\"middle\" x=\"614.53\" y=\"-320.7\" font-family=\"Times,serif\" font-size=\"14.00\">~</text>\n",
       "<text text-anchor=\"middle\" x=\"614.53\" y=\"-303.45\" font-family=\"Times,serif\" font-size=\"14.00\">Halfnormal</text>\n",
       "</g>\n",
       "<!-- beta_1 -->\n",
       "<g id=\"node6\" class=\"node\">\n",
       "<title>beta_1</title>\n",
       "<polygon fill=\"none\" stroke=\"black\" points=\"266.28,-234.75 152.78,-234.75 152.78,-175 266.28,-175 266.28,-234.75\"/>\n",
       "<text text-anchor=\"middle\" x=\"209.53\" y=\"-217.45\" font-family=\"Times,serif\" font-size=\"14.00\">beta_1</text>\n",
       "<text text-anchor=\"middle\" x=\"209.53\" y=\"-200.2\" font-family=\"Times,serif\" font-size=\"14.00\">~</text>\n",
       "<text text-anchor=\"middle\" x=\"209.53\" y=\"-182.95\" font-family=\"Times,serif\" font-size=\"14.00\">Deterministic</text>\n",
       "</g>\n",
       "<!-- beta0_1&#45;&gt;beta_1 -->\n",
       "<g id=\"edge8\" class=\"edge\">\n",
       "<title>beta0_1&#45;&gt;beta_1</title>\n",
       "<path fill=\"none\" stroke=\"black\" d=\"M567.72,-294.16C559.57,-289.89 550.99,-285.99 542.53,-283.12 429.14,-244.65 388.16,-287.77 275.53,-247.12 270.47,-245.3 265.39,-243.05 260.42,-240.54\"/>\n",
       "<polygon fill=\"black\" stroke=\"black\" points=\"262.2,-237.52 251.74,-235.82 258.86,-243.67 262.2,-237.52\"/>\n",
       "</g>\n",
       "<!-- beta0_0 -->\n",
       "<g id=\"node2\" class=\"node\">\n",
       "<title>beta0_0</title>\n",
       "<ellipse fill=\"none\" stroke=\"black\" cx=\"768.53\" cy=\"-325.37\" rx=\"68.06\" ry=\"42.25\"/>\n",
       "<text text-anchor=\"middle\" x=\"768.53\" y=\"-337.95\" font-family=\"Times,serif\" font-size=\"14.00\">beta0_0</text>\n",
       "<text text-anchor=\"middle\" x=\"768.53\" y=\"-320.7\" font-family=\"Times,serif\" font-size=\"14.00\">~</text>\n",
       "<text text-anchor=\"middle\" x=\"768.53\" y=\"-303.45\" font-family=\"Times,serif\" font-size=\"14.00\">Halfnormal</text>\n",
       "</g>\n",
       "<!-- beta_0 -->\n",
       "<g id=\"node8\" class=\"node\">\n",
       "<title>beta_0</title>\n",
       "<polygon fill=\"none\" stroke=\"black\" points=\"398.28,-234.75 284.78,-234.75 284.78,-175 398.28,-175 398.28,-234.75\"/>\n",
       "<text text-anchor=\"middle\" x=\"341.53\" y=\"-217.45\" font-family=\"Times,serif\" font-size=\"14.00\">beta_0</text>\n",
       "<text text-anchor=\"middle\" x=\"341.53\" y=\"-200.2\" font-family=\"Times,serif\" font-size=\"14.00\">~</text>\n",
       "<text text-anchor=\"middle\" x=\"341.53\" y=\"-182.95\" font-family=\"Times,serif\" font-size=\"14.00\">Deterministic</text>\n",
       "</g>\n",
       "<!-- beta0_0&#45;&gt;beta_0 -->\n",
       "<g id=\"edge2\" class=\"edge\">\n",
       "<title>beta0_0&#45;&gt;beta_0</title>\n",
       "<path fill=\"none\" stroke=\"black\" d=\"M720.42,-295.17C711.1,-290.51 701.21,-286.21 691.53,-283.12 570.32,-244.44 527.38,-289.83 407.53,-247.12 402.47,-245.32 397.38,-243.08 392.41,-240.58\"/>\n",
       "<polygon fill=\"black\" stroke=\"black\" points=\"394.18,-237.56 383.72,-235.88 390.85,-243.72 394.18,-237.56\"/>\n",
       "</g>\n",
       "<!-- sigma -->\n",
       "<g id=\"node3\" class=\"node\">\n",
       "<title>sigma</title>\n",
       "<ellipse fill=\"none\" stroke=\"black\" cx=\"67.53\" cy=\"-204.87\" rx=\"67.53\" ry=\"42.25\"/>\n",
       "<text text-anchor=\"middle\" x=\"67.53\" y=\"-217.45\" font-family=\"Times,serif\" font-size=\"14.00\">sigma</text>\n",
       "<text text-anchor=\"middle\" x=\"67.53\" y=\"-200.2\" font-family=\"Times,serif\" font-size=\"14.00\">~</text>\n",
       "<text text-anchor=\"middle\" x=\"67.53\" y=\"-182.95\" font-family=\"Times,serif\" font-size=\"14.00\">Halfcauchy</text>\n",
       "</g>\n",
       "<!-- y_0 -->\n",
       "<g id=\"node12\" class=\"node\">\n",
       "<title>y_0</title>\n",
       "<ellipse fill=\"lightgrey\" stroke=\"black\" cx=\"286.53\" cy=\"-83.5\" rx=\"48.97\" ry=\"42.25\"/>\n",
       "<text text-anchor=\"middle\" x=\"286.53\" y=\"-96.07\" font-family=\"Times,serif\" font-size=\"14.00\">y_0</text>\n",
       "<text text-anchor=\"middle\" x=\"286.53\" y=\"-78.82\" font-family=\"Times,serif\" font-size=\"14.00\">~</text>\n",
       "<text text-anchor=\"middle\" x=\"286.53\" y=\"-61.57\" font-family=\"Times,serif\" font-size=\"14.00\">Normal</text>\n",
       "</g>\n",
       "<!-- sigma&#45;&gt;y_0 -->\n",
       "<g id=\"edge5\" class=\"edge\">\n",
       "<title>sigma&#45;&gt;y_0</title>\n",
       "<path fill=\"none\" stroke=\"black\" d=\"M103.59,-169.09C114.84,-159.4 127.68,-149.44 140.53,-141.75 168.27,-125.15 201.68,-111.63 229.54,-101.91\"/>\n",
       "<polygon fill=\"black\" stroke=\"black\" points=\"230.55,-105.26 238.88,-98.72 228.29,-98.63 230.55,-105.26\"/>\n",
       "</g>\n",
       "<!-- y_1 -->\n",
       "<g id=\"node13\" class=\"node\">\n",
       "<title>y_1</title>\n",
       "<ellipse fill=\"lightgrey\" stroke=\"black\" cx=\"88.53\" cy=\"-83.5\" rx=\"48.97\" ry=\"42.25\"/>\n",
       "<text text-anchor=\"middle\" x=\"88.53\" y=\"-96.07\" font-family=\"Times,serif\" font-size=\"14.00\">y_1</text>\n",
       "<text text-anchor=\"middle\" x=\"88.53\" y=\"-78.82\" font-family=\"Times,serif\" font-size=\"14.00\">~</text>\n",
       "<text text-anchor=\"middle\" x=\"88.53\" y=\"-61.57\" font-family=\"Times,serif\" font-size=\"14.00\">Normal</text>\n",
       "</g>\n",
       "<!-- sigma&#45;&gt;y_1 -->\n",
       "<g id=\"edge9\" class=\"edge\">\n",
       "<title>sigma&#45;&gt;y_1</title>\n",
       "<path fill=\"none\" stroke=\"black\" d=\"M74.81,-162.46C76.28,-154.12 77.84,-145.26 79.36,-136.62\"/>\n",
       "<polygon fill=\"black\" stroke=\"black\" points=\"82.78,-137.39 81.06,-126.93 75.88,-136.17 82.78,-137.39\"/>\n",
       "</g>\n",
       "<!-- y_2 -->\n",
       "<g id=\"node14\" class=\"node\">\n",
       "<title>y_2</title>\n",
       "<ellipse fill=\"lightgrey\" stroke=\"black\" cx=\"451.53\" cy=\"-83.5\" rx=\"48.97\" ry=\"42.25\"/>\n",
       "<text text-anchor=\"middle\" x=\"451.53\" y=\"-96.07\" font-family=\"Times,serif\" font-size=\"14.00\">y_2</text>\n",
       "<text text-anchor=\"middle\" x=\"451.53\" y=\"-78.82\" font-family=\"Times,serif\" font-size=\"14.00\">~</text>\n",
       "<text text-anchor=\"middle\" x=\"451.53\" y=\"-61.57\" font-family=\"Times,serif\" font-size=\"14.00\">Normal</text>\n",
       "</g>\n",
       "<!-- sigma&#45;&gt;y_2 -->\n",
       "<g id=\"edge15\" class=\"edge\">\n",
       "<title>sigma&#45;&gt;y_2</title>\n",
       "<path fill=\"none\" stroke=\"black\" d=\"M100.35,-167.88C111.95,-157.53 125.8,-147.49 140.53,-141.75 183.42,-125.02 302.82,-144.71 347.53,-133.75 365.85,-129.26 384.8,-121.38 401.42,-113.23\"/>\n",
       "<polygon fill=\"black\" stroke=\"black\" points=\"402.76,-116.47 410.1,-108.83 399.6,-110.23 402.76,-116.47\"/>\n",
       "</g>\n",
       "<!-- beta0_2 -->\n",
       "<g id=\"node4\" class=\"node\">\n",
       "<title>beta0_2</title>\n",
       "<ellipse fill=\"none\" stroke=\"black\" cx=\"922.53\" cy=\"-325.37\" rx=\"68.06\" ry=\"42.25\"/>\n",
       "<text text-anchor=\"middle\" x=\"922.53\" y=\"-337.95\" font-family=\"Times,serif\" font-size=\"14.00\">beta0_2</text>\n",
       "<text text-anchor=\"middle\" x=\"922.53\" y=\"-320.7\" font-family=\"Times,serif\" font-size=\"14.00\">~</text>\n",
       "<text text-anchor=\"middle\" x=\"922.53\" y=\"-303.45\" font-family=\"Times,serif\" font-size=\"14.00\">Halfnormal</text>\n",
       "</g>\n",
       "<!-- beta_2 -->\n",
       "<g id=\"node7\" class=\"node\">\n",
       "<title>beta_2</title>\n",
       "<polygon fill=\"none\" stroke=\"black\" points=\"530.28,-234.75 416.78,-234.75 416.78,-175 530.28,-175 530.28,-234.75\"/>\n",
       "<text text-anchor=\"middle\" x=\"473.53\" y=\"-217.45\" font-family=\"Times,serif\" font-size=\"14.00\">beta_2</text>\n",
       "<text text-anchor=\"middle\" x=\"473.53\" y=\"-200.2\" font-family=\"Times,serif\" font-size=\"14.00\">~</text>\n",
       "<text text-anchor=\"middle\" x=\"473.53\" y=\"-182.95\" font-family=\"Times,serif\" font-size=\"14.00\">Deterministic</text>\n",
       "</g>\n",
       "<!-- beta0_2&#45;&gt;beta_2 -->\n",
       "<g id=\"edge12\" class=\"edge\">\n",
       "<title>beta0_2&#45;&gt;beta_2</title>\n",
       "<path fill=\"none\" stroke=\"black\" d=\"M873.79,-295.58C864.61,-290.94 854.94,-286.54 845.53,-283.12 743.06,-245.92 617.86,-224.56 541.98,-214.09\"/>\n",
       "<polygon fill=\"black\" stroke=\"black\" points=\"542.57,-210.64 532.19,-212.76 541.63,-217.57 542.57,-210.64\"/>\n",
       "</g>\n",
       "<!-- sigma_beta0 -->\n",
       "<g id=\"node5\" class=\"node\">\n",
       "<title>sigma_beta0</title>\n",
       "<ellipse fill=\"none\" stroke=\"black\" cx=\"768.53\" cy=\"-445.87\" rx=\"74.95\" ry=\"42.25\"/>\n",
       "<text text-anchor=\"middle\" x=\"768.53\" y=\"-458.45\" font-family=\"Times,serif\" font-size=\"14.00\">sigma_beta0</text>\n",
       "<text text-anchor=\"middle\" x=\"768.53\" y=\"-441.2\" font-family=\"Times,serif\" font-size=\"14.00\">~</text>\n",
       "<text text-anchor=\"middle\" x=\"768.53\" y=\"-423.95\" font-family=\"Times,serif\" font-size=\"14.00\">Halfnormal</text>\n",
       "</g>\n",
       "<!-- sigma_beta0&#45;&gt;beta0_1 -->\n",
       "<g id=\"edge6\" class=\"edge\">\n",
       "<title>sigma_beta0&#45;&gt;beta0_1</title>\n",
       "<path fill=\"none\" stroke=\"black\" d=\"M724.81,-411.23C706.39,-397.06 684.81,-380.46 665.66,-365.72\"/>\n",
       "<polygon fill=\"black\" stroke=\"black\" points=\"668.02,-363.12 657.96,-359.79 663.75,-368.67 668.02,-363.12\"/>\n",
       "</g>\n",
       "<!-- sigma_beta0&#45;&gt;beta0_0 -->\n",
       "<g id=\"edge1\" class=\"edge\">\n",
       "<title>sigma_beta0&#45;&gt;beta0_0</title>\n",
       "<path fill=\"none\" stroke=\"black\" d=\"M768.53,-403.43C768.53,-395.62 768.53,-387.37 768.53,-379.27\"/>\n",
       "<polygon fill=\"black\" stroke=\"black\" points=\"772.03,-379.51 768.53,-369.51 765.03,-379.51 772.03,-379.51\"/>\n",
       "</g>\n",
       "<!-- sigma_beta0&#45;&gt;beta0_2 -->\n",
       "<g id=\"edge11\" class=\"edge\">\n",
       "<title>sigma_beta0&#45;&gt;beta0_2</title>\n",
       "<path fill=\"none\" stroke=\"black\" d=\"M812.25,-411.23C830.67,-397.06 852.24,-380.46 871.4,-365.72\"/>\n",
       "<polygon fill=\"black\" stroke=\"black\" points=\"873.3,-368.67 879.1,-359.79 869.04,-363.12 873.3,-368.67\"/>\n",
       "</g>\n",
       "<!-- beta_1&#45;&gt;y_1 -->\n",
       "<g id=\"edge10\" class=\"edge\">\n",
       "<title>beta_1&#45;&gt;y_1</title>\n",
       "<path fill=\"none\" stroke=\"black\" d=\"M179.93,-174.67C164.42,-159.37 145.2,-140.41 128.39,-123.83\"/>\n",
       "<polygon fill=\"black\" stroke=\"black\" points=\"131.02,-121.5 121.44,-116.97 126.1,-126.49 131.02,-121.5\"/>\n",
       "</g>\n",
       "<!-- beta_2&#45;&gt;y_2 -->\n",
       "<g id=\"edge14\" class=\"edge\">\n",
       "<title>beta_2&#45;&gt;y_2</title>\n",
       "<path fill=\"none\" stroke=\"black\" d=\"M468.15,-174.67C466.04,-163.25 463.56,-149.79 461.17,-136.8\"/>\n",
       "<polygon fill=\"black\" stroke=\"black\" points=\"464.63,-136.26 459.37,-127.06 457.74,-137.53 464.63,-136.26\"/>\n",
       "</g>\n",
       "<!-- beta_0&#45;&gt;y_0 -->\n",
       "<g id=\"edge4\" class=\"edge\">\n",
       "<title>beta_0&#45;&gt;y_0</title>\n",
       "<path fill=\"none\" stroke=\"black\" d=\"M328.07,-174.67C322.4,-162.35 315.63,-147.66 309.22,-133.75\"/>\n",
       "<polygon fill=\"black\" stroke=\"black\" points=\"312.41,-132.31 305.05,-124.69 306.05,-135.24 312.41,-132.31\"/>\n",
       "</g>\n",
       "<!-- z_2 -->\n",
       "<g id=\"node9\" class=\"node\">\n",
       "<title>z_2</title>\n",
       "<ellipse fill=\"none\" stroke=\"black\" cx=\"473.53\" cy=\"-325.37\" rx=\"48.97\" ry=\"42.25\"/>\n",
       "<text text-anchor=\"middle\" x=\"473.53\" y=\"-337.95\" font-family=\"Times,serif\" font-size=\"14.00\">z_2</text>\n",
       "<text text-anchor=\"middle\" x=\"473.53\" y=\"-320.7\" font-family=\"Times,serif\" font-size=\"14.00\">~</text>\n",
       "<text text-anchor=\"middle\" x=\"473.53\" y=\"-303.45\" font-family=\"Times,serif\" font-size=\"14.00\">Normal</text>\n",
       "</g>\n",
       "<!-- z_2&#45;&gt;beta_2 -->\n",
       "<g id=\"edge13\" class=\"edge\">\n",
       "<title>z_2&#45;&gt;beta_2</title>\n",
       "<path fill=\"none\" stroke=\"black\" d=\"M473.53,-282.93C473.53,-271.11 473.53,-258.26 473.53,-246.5\"/>\n",
       "<polygon fill=\"black\" stroke=\"black\" points=\"477.03,-246.69 473.53,-236.69 470.03,-246.69 477.03,-246.69\"/>\n",
       "</g>\n",
       "<!-- z_1 -->\n",
       "<g id=\"node10\" class=\"node\">\n",
       "<title>z_1</title>\n",
       "<ellipse fill=\"none\" stroke=\"black\" cx=\"209.53\" cy=\"-325.37\" rx=\"48.97\" ry=\"42.25\"/>\n",
       "<text text-anchor=\"middle\" x=\"209.53\" y=\"-337.95\" font-family=\"Times,serif\" font-size=\"14.00\">z_1</text>\n",
       "<text text-anchor=\"middle\" x=\"209.53\" y=\"-320.7\" font-family=\"Times,serif\" font-size=\"14.00\">~</text>\n",
       "<text text-anchor=\"middle\" x=\"209.53\" y=\"-303.45\" font-family=\"Times,serif\" font-size=\"14.00\">Normal</text>\n",
       "</g>\n",
       "<!-- z_1&#45;&gt;beta_1 -->\n",
       "<g id=\"edge7\" class=\"edge\">\n",
       "<title>z_1&#45;&gt;beta_1</title>\n",
       "<path fill=\"none\" stroke=\"black\" d=\"M209.53,-282.93C209.53,-271.11 209.53,-258.26 209.53,-246.5\"/>\n",
       "<polygon fill=\"black\" stroke=\"black\" points=\"213.03,-246.69 209.53,-236.69 206.03,-246.69 213.03,-246.69\"/>\n",
       "</g>\n",
       "<!-- z_0 -->\n",
       "<g id=\"node11\" class=\"node\">\n",
       "<title>z_0</title>\n",
       "<ellipse fill=\"none\" stroke=\"black\" cx=\"341.53\" cy=\"-325.37\" rx=\"48.97\" ry=\"42.25\"/>\n",
       "<text text-anchor=\"middle\" x=\"341.53\" y=\"-337.95\" font-family=\"Times,serif\" font-size=\"14.00\">z_0</text>\n",
       "<text text-anchor=\"middle\" x=\"341.53\" y=\"-320.7\" font-family=\"Times,serif\" font-size=\"14.00\">~</text>\n",
       "<text text-anchor=\"middle\" x=\"341.53\" y=\"-303.45\" font-family=\"Times,serif\" font-size=\"14.00\">Normal</text>\n",
       "</g>\n",
       "<!-- z_0&#45;&gt;beta_0 -->\n",
       "<g id=\"edge3\" class=\"edge\">\n",
       "<title>z_0&#45;&gt;beta_0</title>\n",
       "<path fill=\"none\" stroke=\"black\" d=\"M341.53,-282.93C341.53,-271.11 341.53,-258.26 341.53,-246.5\"/>\n",
       "<polygon fill=\"black\" stroke=\"black\" points=\"345.03,-246.69 341.53,-236.69 338.03,-246.69 345.03,-246.69\"/>\n",
       "</g>\n",
       "</g>\n",
       "</svg>\n"
      ],
      "text/plain": [
       "<graphviz.graphs.Digraph at 0x7fb89c0ef1d0>"
      ]
     },
     "execution_count": 26,
     "metadata": {},
     "output_type": "execute_result"
    }
   ],
   "source": [
    "non_vectorized_splines_model.to_graphviz()"
   ]
  },
  {
   "cell_type": "markdown",
   "id": "6be0b8afd4990567",
   "metadata": {},
   "source": [
    "This version of the model has several `for` loop and list comprehensions.\n",
    "Every Python iteration extends the computational graph (basically unrolling the loop), which becomes infeasible for PyMC to handle.\n",
    "\n",
    "The use of 3 likelihood and sets of priors is otherwise fine and can make more sense in some cases.\n",
    "\n",
    "We can improve the performance of this model by replacing the loop with vectorized operations.\n",
    "We'll demonstrate first with current PyMC features, and then with dims."
   ]
  },
  {
   "cell_type": "markdown",
   "id": "33d16a1bef908f3f",
   "metadata": {
    "ExecuteTime": {
     "end_time": "2025-06-26T21:31:52.686637Z",
     "start_time": "2025-06-26T21:31:52.509222Z"
    }
   },
   "source": [
    "### Old style vectorization"
   ]
  },
  {
   "cell_type": "markdown",
   "id": "d8add515e2e56179",
   "metadata": {},
   "source": [
    "\n",
    "First, we'll introduce coords and {func}`~pymc.Data` to explicitly define the coordinate system, making the model's dimensionality clear and facilitating posterior analysis with labeled dimensions."
   ]
  },
  {
   "cell_type": "code",
   "execution_count": 27,
   "id": "6ee0f6e24fa81b02",
   "metadata": {},
   "outputs": [],
   "source": [
    "coords = {\n",
    "    \"group\": range(3),\n",
    "    \"knots\": range(n_knots),\n",
    "    \"obs\": range(N),\n",
    "}\n",
    "with pm.Model(coords=coords) as vectorized_splines_model:\n",
    "    x = pm.Data(\"x\", x_np, dims=\"obs\")\n",
    "    y_obs = pm.Data(\"y_obs\", y_obs_np, dims=\"obs\")\n",
    "\n",
    "    knots = pm.Data(\"knots\", knots_np, dims=\"knot\")\n",
    "\n",
    "    sigma = pm.HalfCauchy(\"sigma\", beta=1)\n",
    "    sigma_beta0 = pm.HalfNormal(\"sigma_beta0\", sigma=10)\n",
    "    beta0 = pm.HalfNormal(\"beta_0\", sigma=sigma_beta0, dims=\"group\")\n",
    "    z = pm.Normal(\"z\", dims=(\"group\", \"knot\"))\n",
    "\n",
    "    delta_factors = pm.math.softmax(z, axis=-1)  # (groups, knot)\n",
    "    slope_factors = 1 - pm.math.cumsum(delta_factors[:, :-1], axis=-1)  # (groups, knot-1)\n",
    "    spline_slopes = pm.math.concatenate(\n",
    "        [beta0[:, None], beta0[:, None] * slope_factors], axis=-1\n",
    "    )  # (groups, knot-1)\n",
    "    beta = pm.math.concatenate(\n",
    "        [beta0[:, None], pm.math.diff(spline_slopes, axis=-1)], axis=-1\n",
    "    )  # (groups, knot)\n",
    "\n",
    "    beta = pm.Deterministic(\"beta\", beta, dims=(\"group\", \"knot\"))\n",
    "\n",
    "    X = pm.math.maximum(0, x[:, None] - knots[None, :])  # (n, knot)\n",
    "    mu = (X * beta[group_idx_np]).sum(-1)  # ((n, knots) * (n, knots)).sum(-1) = (n,)\n",
    "    y = pm.Normal(\"y\", mu=mu, sigma=sigma, observed=y_obs, dims=\"obs\")"
   ]
  },
  {
   "cell_type": "code",
   "execution_count": 28,
   "id": "bd94fa06a1190a05",
   "metadata": {
    "ExecuteTime": {
     "end_time": "2025-06-30T15:53:41.063986Z",
     "start_time": "2025-06-30T15:53:40.980450Z"
    }
   },
   "outputs": [
    {
     "data": {
      "image/svg+xml": [
       "<?xml version=\"1.0\" encoding=\"UTF-8\" standalone=\"no\"?>\n",
       "<!DOCTYPE svg PUBLIC \"-//W3C//DTD SVG 1.1//EN\"\n",
       " \"http://www.w3.org/Graphics/SVG/1.1/DTD/svg11.dtd\">\n",
       "<!-- Generated by graphviz version 12.2.1 (20250203.1708)\n",
       " -->\n",
       "<!-- Pages: 1 -->\n",
       "<svg width=\"701pt\" height=\"596pt\"\n",
       " viewBox=\"0.00 0.00 701.00 596.25\" xmlns=\"http://www.w3.org/2000/svg\" xmlns:xlink=\"http://www.w3.org/1999/xlink\">\n",
       "<g id=\"graph0\" class=\"graph\" transform=\"scale(1 1) rotate(0) translate(4 592.25)\">\n",
       "<polygon fill=\"white\" stroke=\"none\" points=\"-4,4 -4,-592.25 697,-592.25 697,4 -4,4\"/>\n",
       "<g id=\"clust1\" class=\"cluster\">\n",
       "<title>clusterobs (500)</title>\n",
       "<path fill=\"none\" stroke=\"black\" d=\"M20,-8C20,-8 110,-8 110,-8 116,-8 122,-14 122,-20 122,-20 122,-325.62 122,-325.62 122,-331.62 116,-337.62 110,-337.62 110,-337.62 20,-337.62 20,-337.62 14,-337.62 8,-331.62 8,-325.62 8,-325.62 8,-20 8,-20 8,-14 14,-8 20,-8\"/>\n",
       "<text text-anchor=\"middle\" x=\"80.62\" y=\"-15.95\" font-family=\"Times,serif\" font-size=\"14.00\">obs (500)</text>\n",
       "</g>\n",
       "<g id=\"clust2\" class=\"cluster\">\n",
       "<title>clusterknot (50)</title>\n",
       "<path fill=\"none\" stroke=\"black\" d=\"M142,-236.62C142,-236.62 198,-236.62 198,-236.62 204,-236.62 210,-242.62 210,-248.62 210,-248.62 210,-325.62 210,-325.62 210,-331.62 204,-337.62 198,-337.62 198,-337.62 142,-337.62 142,-337.62 136,-337.62 130,-331.62 130,-325.62 130,-325.62 130,-248.62 130,-248.62 130,-242.62 136,-236.62 142,-236.62\"/>\n",
       "<text text-anchor=\"middle\" x=\"169.75\" y=\"-244.57\" font-family=\"Times,serif\" font-size=\"14.00\">knot (50)</text>\n",
       "</g>\n",
       "<g id=\"clust3\" class=\"cluster\">\n",
       "<title>clustergroup (3)</title>\n",
       "<path fill=\"none\" stroke=\"black\" d=\"M545,-350C545,-350 673,-350 673,-350 679,-350 685,-356 685,-362 685,-362 685,-463.75 685,-463.75 685,-469.75 679,-475.75 673,-475.75 673,-475.75 545,-475.75 545,-475.75 539,-475.75 533,-469.75 533,-463.75 533,-463.75 533,-362 533,-362 533,-356 539,-350 545,-350\"/>\n",
       "<text text-anchor=\"middle\" x=\"644\" y=\"-357.95\" font-family=\"Times,serif\" font-size=\"14.00\">group (3)</text>\n",
       "</g>\n",
       "<g id=\"clust4\" class=\"cluster\">\n",
       "<title>clustergroup (3) x knot (50)</title>\n",
       "<path fill=\"none\" stroke=\"black\" d=\"M374,-236.62C374,-236.62 513,-236.62 513,-236.62 519,-236.62 525,-242.62 525,-248.62 525,-248.62 525,-463.75 525,-463.75 525,-469.75 519,-475.75 513,-475.75 513,-475.75 374,-475.75 374,-475.75 368,-475.75 362,-469.75 362,-463.75 362,-463.75 362,-248.62 362,-248.62 362,-242.62 368,-236.62 374,-236.62\"/>\n",
       "<text text-anchor=\"middle\" x=\"443.12\" y=\"-244.57\" font-family=\"Times,serif\" font-size=\"14.00\">group (3) x knot (50)</text>\n",
       "</g>\n",
       "<!-- x -->\n",
       "<g id=\"node1\" class=\"node\">\n",
       "<title>x</title>\n",
       "<path fill=\"lightgrey\" stroke=\"black\" d=\"M80,-329.62C80,-329.62 50,-329.62 50,-329.62 44,-329.62 38,-323.62 38,-317.62 38,-317.62 38,-281.87 38,-281.87 38,-275.87 44,-269.87 50,-269.87 50,-269.87 80,-269.87 80,-269.87 86,-269.87 92,-275.87 92,-281.87 92,-281.87 92,-317.62 92,-317.62 92,-323.62 86,-329.62 80,-329.62\"/>\n",
       "<text text-anchor=\"middle\" x=\"65\" y=\"-312.32\" font-family=\"Times,serif\" font-size=\"14.00\">x</text>\n",
       "<text text-anchor=\"middle\" x=\"65\" y=\"-295.07\" font-family=\"Times,serif\" font-size=\"14.00\">~</text>\n",
       "<text text-anchor=\"middle\" x=\"65\" y=\"-277.82\" font-family=\"Times,serif\" font-size=\"14.00\">Data</text>\n",
       "</g>\n",
       "<!-- y -->\n",
       "<g id=\"node3\" class=\"node\">\n",
       "<title>y</title>\n",
       "<ellipse fill=\"lightgrey\" stroke=\"black\" cx=\"65\" cy=\"-179.25\" rx=\"48.97\" ry=\"42.25\"/>\n",
       "<text text-anchor=\"middle\" x=\"65\" y=\"-191.82\" font-family=\"Times,serif\" font-size=\"14.00\">y</text>\n",
       "<text text-anchor=\"middle\" x=\"65\" y=\"-174.57\" font-family=\"Times,serif\" font-size=\"14.00\">~</text>\n",
       "<text text-anchor=\"middle\" x=\"65\" y=\"-157.32\" font-family=\"Times,serif\" font-size=\"14.00\">Normal</text>\n",
       "</g>\n",
       "<!-- x&#45;&gt;y -->\n",
       "<g id=\"edge6\" class=\"edge\">\n",
       "<title>x&#45;&gt;y</title>\n",
       "<path fill=\"none\" stroke=\"black\" d=\"M65,-269.46C65,-258.44 65,-245.54 65,-233.04\"/>\n",
       "<polygon fill=\"black\" stroke=\"black\" points=\"68.5,-233.24 65,-223.24 61.5,-233.24 68.5,-233.24\"/>\n",
       "</g>\n",
       "<!-- y_obs -->\n",
       "<g id=\"node2\" class=\"node\">\n",
       "<title>y_obs</title>\n",
       "<path fill=\"lightgrey\" stroke=\"black\" d=\"M80.88,-101C80.88,-101 49.12,-101 49.12,-101 43.12,-101 37.12,-95 37.12,-89 37.12,-89 37.12,-53.25 37.12,-53.25 37.12,-47.25 43.12,-41.25 49.12,-41.25 49.12,-41.25 80.88,-41.25 80.88,-41.25 86.88,-41.25 92.88,-47.25 92.88,-53.25 92.88,-53.25 92.88,-89 92.88,-89 92.88,-95 86.88,-101 80.88,-101\"/>\n",
       "<text text-anchor=\"middle\" x=\"65\" y=\"-83.7\" font-family=\"Times,serif\" font-size=\"14.00\">y_obs</text>\n",
       "<text text-anchor=\"middle\" x=\"65\" y=\"-66.45\" font-family=\"Times,serif\" font-size=\"14.00\">~</text>\n",
       "<text text-anchor=\"middle\" x=\"65\" y=\"-49.2\" font-family=\"Times,serif\" font-size=\"14.00\">Data</text>\n",
       "</g>\n",
       "<!-- y&#45;&gt;y_obs -->\n",
       "<g id=\"edge1\" class=\"edge\">\n",
       "<title>y&#45;&gt;y_obs</title>\n",
       "<path fill=\"none\" stroke=\"black\" d=\"M65,-136.61C65,-128.74 65,-120.53 65,-112.69\"/>\n",
       "<polygon fill=\"black\" stroke=\"black\" points=\"68.5,-112.71 65,-102.71 61.5,-112.71 68.5,-112.71\"/>\n",
       "</g>\n",
       "<!-- knots -->\n",
       "<g id=\"node4\" class=\"node\">\n",
       "<title>knots</title>\n",
       "<path fill=\"lightgrey\" stroke=\"black\" d=\"M181.5,-329.62C181.5,-329.62 150.5,-329.62 150.5,-329.62 144.5,-329.62 138.5,-323.62 138.5,-317.62 138.5,-317.62 138.5,-281.87 138.5,-281.87 138.5,-275.87 144.5,-269.87 150.5,-269.87 150.5,-269.87 181.5,-269.87 181.5,-269.87 187.5,-269.87 193.5,-275.87 193.5,-281.87 193.5,-281.87 193.5,-317.62 193.5,-317.62 193.5,-323.62 187.5,-329.62 181.5,-329.62\"/>\n",
       "<text text-anchor=\"middle\" x=\"166\" y=\"-312.32\" font-family=\"Times,serif\" font-size=\"14.00\">knots</text>\n",
       "<text text-anchor=\"middle\" x=\"166\" y=\"-295.07\" font-family=\"Times,serif\" font-size=\"14.00\">~</text>\n",
       "<text text-anchor=\"middle\" x=\"166\" y=\"-277.82\" font-family=\"Times,serif\" font-size=\"14.00\">Data</text>\n",
       "</g>\n",
       "<!-- knots&#45;&gt;y -->\n",
       "<g id=\"edge5\" class=\"edge\">\n",
       "<title>knots&#45;&gt;y</title>\n",
       "<path fill=\"none\" stroke=\"black\" d=\"M149.32,-269.55C142.63,-258.78 134.5,-246.74 126,-236.62 120.46,-230.02 114.18,-223.43 107.81,-217.21\"/>\n",
       "<polygon fill=\"black\" stroke=\"black\" points=\"110.5,-214.93 100.84,-210.58 105.68,-220.01 110.5,-214.93\"/>\n",
       "</g>\n",
       "<!-- sigma -->\n",
       "<g id=\"node5\" class=\"node\">\n",
       "<title>sigma</title>\n",
       "<ellipse fill=\"none\" stroke=\"black\" cx=\"286\" cy=\"-299.75\" rx=\"67.53\" ry=\"42.25\"/>\n",
       "<text text-anchor=\"middle\" x=\"286\" y=\"-312.32\" font-family=\"Times,serif\" font-size=\"14.00\">sigma</text>\n",
       "<text text-anchor=\"middle\" x=\"286\" y=\"-295.07\" font-family=\"Times,serif\" font-size=\"14.00\">~</text>\n",
       "<text text-anchor=\"middle\" x=\"286\" y=\"-277.82\" font-family=\"Times,serif\" font-size=\"14.00\">Halfcauchy</text>\n",
       "</g>\n",
       "<!-- sigma&#45;&gt;y -->\n",
       "<g id=\"edge7\" class=\"edge\">\n",
       "<title>sigma&#45;&gt;y</title>\n",
       "<path fill=\"none\" stroke=\"black\" d=\"M250.18,-263.52C239.18,-253.94 226.63,-244.14 214,-236.62 185.44,-219.63 150.87,-206.17 122.22,-196.67\"/>\n",
       "<polygon fill=\"black\" stroke=\"black\" points=\"123.59,-193.43 112.99,-193.69 121.43,-200.09 123.59,-193.43\"/>\n",
       "</g>\n",
       "<!-- sigma_beta0 -->\n",
       "<g id=\"node6\" class=\"node\">\n",
       "<title>sigma_beta0</title>\n",
       "<ellipse fill=\"none\" stroke=\"black\" cx=\"609\" cy=\"-546\" rx=\"74.95\" ry=\"42.25\"/>\n",
       "<text text-anchor=\"middle\" x=\"609\" y=\"-558.57\" font-family=\"Times,serif\" font-size=\"14.00\">sigma_beta0</text>\n",
       "<text text-anchor=\"middle\" x=\"609\" y=\"-541.32\" font-family=\"Times,serif\" font-size=\"14.00\">~</text>\n",
       "<text text-anchor=\"middle\" x=\"609\" y=\"-524.07\" font-family=\"Times,serif\" font-size=\"14.00\">Halfnormal</text>\n",
       "</g>\n",
       "<!-- beta_0 -->\n",
       "<g id=\"node7\" class=\"node\">\n",
       "<title>beta_0</title>\n",
       "<ellipse fill=\"none\" stroke=\"black\" cx=\"609\" cy=\"-425.5\" rx=\"68.06\" ry=\"42.25\"/>\n",
       "<text text-anchor=\"middle\" x=\"609\" y=\"-438.07\" font-family=\"Times,serif\" font-size=\"14.00\">beta_0</text>\n",
       "<text text-anchor=\"middle\" x=\"609\" y=\"-420.82\" font-family=\"Times,serif\" font-size=\"14.00\">~</text>\n",
       "<text text-anchor=\"middle\" x=\"609\" y=\"-403.57\" font-family=\"Times,serif\" font-size=\"14.00\">Halfnormal</text>\n",
       "</g>\n",
       "<!-- sigma_beta0&#45;&gt;beta_0 -->\n",
       "<g id=\"edge2\" class=\"edge\">\n",
       "<title>sigma_beta0&#45;&gt;beta_0</title>\n",
       "<path fill=\"none\" stroke=\"black\" d=\"M609,-503.55C609,-495.75 609,-487.49 609,-479.4\"/>\n",
       "<polygon fill=\"black\" stroke=\"black\" points=\"612.5,-479.63 609,-469.63 605.5,-479.63 612.5,-479.63\"/>\n",
       "</g>\n",
       "<!-- beta -->\n",
       "<g id=\"node8\" class=\"node\">\n",
       "<title>beta</title>\n",
       "<polygon fill=\"none\" stroke=\"black\" points=\"500.75,-329.62 387.25,-329.62 387.25,-269.87 500.75,-269.87 500.75,-329.62\"/>\n",
       "<text text-anchor=\"middle\" x=\"444\" y=\"-312.32\" font-family=\"Times,serif\" font-size=\"14.00\">beta</text>\n",
       "<text text-anchor=\"middle\" x=\"444\" y=\"-295.07\" font-family=\"Times,serif\" font-size=\"14.00\">~</text>\n",
       "<text text-anchor=\"middle\" x=\"444\" y=\"-277.82\" font-family=\"Times,serif\" font-size=\"14.00\">Deterministic</text>\n",
       "</g>\n",
       "<!-- beta_0&#45;&gt;beta -->\n",
       "<g id=\"edge3\" class=\"edge\">\n",
       "<title>beta_0&#45;&gt;beta</title>\n",
       "<path fill=\"none\" stroke=\"black\" d=\"M574.26,-388.94C560.73,-375.97 544.71,-361.63 529,-350 522.5,-345.18 515.49,-340.46 508.38,-335.96\"/>\n",
       "<polygon fill=\"black\" stroke=\"black\" points=\"510.3,-333.04 499.95,-330.78 506.63,-339 510.3,-333.04\"/>\n",
       "</g>\n",
       "<!-- beta&#45;&gt;y -->\n",
       "<g id=\"edge8\" class=\"edge\">\n",
       "<title>beta&#45;&gt;y</title>\n",
       "<path fill=\"none\" stroke=\"black\" d=\"M413.14,-269.59C398.89,-257.63 381.12,-244.73 363,-236.62 285.51,-201.96 187.44,-188.6 125.44,-183.46\"/>\n",
       "<polygon fill=\"black\" stroke=\"black\" points=\"126.04,-179.99 115.8,-182.71 125.5,-186.97 126.04,-179.99\"/>\n",
       "</g>\n",
       "<!-- z -->\n",
       "<g id=\"node9\" class=\"node\">\n",
       "<title>z</title>\n",
       "<ellipse fill=\"none\" stroke=\"black\" cx=\"444\" cy=\"-425.5\" rx=\"48.97\" ry=\"42.25\"/>\n",
       "<text text-anchor=\"middle\" x=\"444\" y=\"-438.07\" font-family=\"Times,serif\" font-size=\"14.00\">z</text>\n",
       "<text text-anchor=\"middle\" x=\"444\" y=\"-420.82\" font-family=\"Times,serif\" font-size=\"14.00\">~</text>\n",
       "<text text-anchor=\"middle\" x=\"444\" y=\"-403.57\" font-family=\"Times,serif\" font-size=\"14.00\">Normal</text>\n",
       "</g>\n",
       "<!-- z&#45;&gt;beta -->\n",
       "<g id=\"edge4\" class=\"edge\">\n",
       "<title>z&#45;&gt;beta</title>\n",
       "<path fill=\"none\" stroke=\"black\" d=\"M444,-382.95C444,-369.48 444,-354.57 444,-341.18\"/>\n",
       "<polygon fill=\"black\" stroke=\"black\" points=\"447.5,-341.4 444,-331.4 440.5,-341.4 447.5,-341.4\"/>\n",
       "</g>\n",
       "</g>\n",
       "</svg>\n"
      ],
      "text/plain": [
       "<graphviz.graphs.Digraph at 0x7fb89c4e6a50>"
      ]
     },
     "execution_count": 28,
     "metadata": {},
     "output_type": "execute_result"
    }
   ],
   "source": [
    "vectorized_splines_model.to_graphviz()"
   ]
  },
  {
   "cell_type": "markdown",
   "id": "a98bbe7f2e17783a",
   "metadata": {
    "ExecuteTime": {
     "end_time": "2025-06-26T21:32:15.059906Z",
     "start_time": "2025-06-26T21:32:15.024281Z"
    }
   },
   "source": [
    "Looking only at grahpviz does not reveal much difference. The real complexity is hidden in the underlying computational graph. Let us measure it."
   ]
  },
  {
   "cell_type": "code",
   "execution_count": 29,
   "id": "90f8f4ee3fd9f2a3",
   "metadata": {
    "ExecuteTime": {
     "end_time": "2025-06-30T15:53:41.192185Z",
     "start_time": "2025-06-30T15:53:41.162347Z"
    }
   },
   "outputs": [
    {
     "name": "stdout",
     "output_type": "stream",
     "text": [
      "Non-vectorized model has 806 nodes\n",
      "Vectorized model has 38 nodes\n"
     ]
    }
   ],
   "source": [
    "from pytensor.graph import ancestors\n",
    "\n",
    "\n",
    "def count_nodes(model):\n",
    "    return len({v for v in ancestors(model.basic_RVs) if v.owner})\n",
    "\n",
    "\n",
    "print(f\"Non-vectorized model has {count_nodes(non_vectorized_splines_model)} nodes\")\n",
    "print(f\"Vectorized model has {count_nodes(vectorized_splines_model)} nodes\")"
   ]
  },
  {
   "cell_type": "markdown",
   "id": "daa39293278cbb05",
   "metadata": {},
   "source": [
    "This version of the model is much more succinct and performant.\n",
    "\n",
    "However, it's considerably hard to write, specially for beginners. It requires familiarity with Numpy unusual broadcasting syntax and mental gymnastics to keep track of the dimensions."
   ]
  },
  {
   "cell_type": "markdown",
   "id": "a532b2ec365bfecf",
   "metadata": {
    "ExecuteTime": {
     "end_time": "2025-06-26T21:32:17.432572Z",
     "start_time": "2025-06-26T21:32:17.415088Z"
    }
   },
   "source": [
    "### Vectorization with dims"
   ]
  },
  {
   "cell_type": "markdown",
   "id": "c24ce399f0eeae4c",
   "metadata": {},
   "source": [
    "Here is a version of the model using {mod}`pymc.dims`, which we hope you'll agree is more intuitive"
   ]
  },
  {
   "cell_type": "code",
   "execution_count": 30,
   "id": "1bf2c6b99378b2db",
   "metadata": {},
   "outputs": [],
   "source": [
    "with pm.Model(coords=coords) as dims_splines_model:\n",
    "    x = pmd.Data(\"x\", x_np, dims=\"obs\")\n",
    "    y_obs = pmd.Data(\"y_obs\", y_obs_np, dims=\"obs\")\n",
    "    knots = pmd.Data(\"knots\", knots_np, dims=(\"knot\",))\n",
    "    group_idx = pmd.math.as_xtensor(group_idx_np, dims=(\"obs\",))\n",
    "\n",
    "    sigma = pmd.HalfCauchy(\"sigma\", beta=1)\n",
    "    sigma_beta0 = pmd.HalfNormal(\"sigma_beta0\", sigma=10)\n",
    "    beta0 = pmd.HalfNormal(\"beta_0\", sigma=sigma_beta0, dims=(\"group\",))\n",
    "    z = pmd.Normal(\"z\", dims=(\"group\", \"knot\"))\n",
    "\n",
    "    delta_factors = pmd.math.softmax(z, dim=\"knot\")\n",
    "    slope_factors = 1 - delta_factors.isel(knot=slice(None, -1)).cumsum(\"knot\")\n",
    "    spline_slopes = pmd.concat([beta0, beta0 * slope_factors], dim=\"knot\")\n",
    "    beta = pmd.Deterministic(\"beta\", pmd.concat([beta0, spline_slopes.diff(\"knot\")], dim=\"knot\"))\n",
    "\n",
    "    X = pmd.math.maximum(0, x - knots)\n",
    "    mu = (X * beta.isel(group=group_idx)).sum(\"knot\")\n",
    "    y = pmd.Normal(\"y\", mu=mu, sigma=sigma, observed=y_obs)"
   ]
  },
  {
   "cell_type": "markdown",
   "id": "91593e5b3dbc885f",
   "metadata": {},
   "source": [
    "Let us confirm it is identical to the previous version."
   ]
  },
  {
   "cell_type": "code",
   "execution_count": 31,
   "id": "5f55cf90d737dcf",
   "metadata": {
    "ExecuteTime": {
     "end_time": "2025-06-30T15:53:42.362928Z",
     "start_time": "2025-06-30T15:53:42.151483Z"
    }
   },
   "outputs": [
    {
     "data": {
      "image/svg+xml": [
       "<?xml version=\"1.0\" encoding=\"UTF-8\" standalone=\"no\"?>\n",
       "<!DOCTYPE svg PUBLIC \"-//W3C//DTD SVG 1.1//EN\"\n",
       " \"http://www.w3.org/Graphics/SVG/1.1/DTD/svg11.dtd\">\n",
       "<!-- Generated by graphviz version 12.2.1 (20250203.1708)\n",
       " -->\n",
       "<!-- Pages: 1 -->\n",
       "<svg width=\"701pt\" height=\"596pt\"\n",
       " viewBox=\"0.00 0.00 701.00 596.25\" xmlns=\"http://www.w3.org/2000/svg\" xmlns:xlink=\"http://www.w3.org/1999/xlink\">\n",
       "<g id=\"graph0\" class=\"graph\" transform=\"scale(1 1) rotate(0) translate(4 592.25)\">\n",
       "<polygon fill=\"white\" stroke=\"none\" points=\"-4,4 -4,-592.25 697,-592.25 697,4 -4,4\"/>\n",
       "<g id=\"clust1\" class=\"cluster\">\n",
       "<title>clusterobs (500)</title>\n",
       "<path fill=\"none\" stroke=\"black\" d=\"M20,-8C20,-8 110,-8 110,-8 116,-8 122,-14 122,-20 122,-20 122,-325.62 122,-325.62 122,-331.62 116,-337.62 110,-337.62 110,-337.62 20,-337.62 20,-337.62 14,-337.62 8,-331.62 8,-325.62 8,-325.62 8,-20 8,-20 8,-14 14,-8 20,-8\"/>\n",
       "<text text-anchor=\"middle\" x=\"80.62\" y=\"-15.95\" font-family=\"Times,serif\" font-size=\"14.00\">obs (500)</text>\n",
       "</g>\n",
       "<g id=\"clust2\" class=\"cluster\">\n",
       "<title>clusterknot (50)</title>\n",
       "<path fill=\"none\" stroke=\"black\" d=\"M142,-236.62C142,-236.62 198,-236.62 198,-236.62 204,-236.62 210,-242.62 210,-248.62 210,-248.62 210,-325.62 210,-325.62 210,-331.62 204,-337.62 198,-337.62 198,-337.62 142,-337.62 142,-337.62 136,-337.62 130,-331.62 130,-325.62 130,-325.62 130,-248.62 130,-248.62 130,-242.62 136,-236.62 142,-236.62\"/>\n",
       "<text text-anchor=\"middle\" x=\"169.75\" y=\"-244.57\" font-family=\"Times,serif\" font-size=\"14.00\">knot (50)</text>\n",
       "</g>\n",
       "<g id=\"clust3\" class=\"cluster\">\n",
       "<title>clustergroup (3)</title>\n",
       "<path fill=\"none\" stroke=\"black\" d=\"M545,-350C545,-350 673,-350 673,-350 679,-350 685,-356 685,-362 685,-362 685,-463.75 685,-463.75 685,-469.75 679,-475.75 673,-475.75 673,-475.75 545,-475.75 545,-475.75 539,-475.75 533,-469.75 533,-463.75 533,-463.75 533,-362 533,-362 533,-356 539,-350 545,-350\"/>\n",
       "<text text-anchor=\"middle\" x=\"644\" y=\"-357.95\" font-family=\"Times,serif\" font-size=\"14.00\">group (3)</text>\n",
       "</g>\n",
       "<g id=\"clust4\" class=\"cluster\">\n",
       "<title>clustergroup (3) x knot (50)</title>\n",
       "<path fill=\"none\" stroke=\"black\" d=\"M374,-236.62C374,-236.62 513,-236.62 513,-236.62 519,-236.62 525,-242.62 525,-248.62 525,-248.62 525,-463.75 525,-463.75 525,-469.75 519,-475.75 513,-475.75 513,-475.75 374,-475.75 374,-475.75 368,-475.75 362,-469.75 362,-463.75 362,-463.75 362,-248.62 362,-248.62 362,-242.62 368,-236.62 374,-236.62\"/>\n",
       "<text text-anchor=\"middle\" x=\"443.12\" y=\"-244.57\" font-family=\"Times,serif\" font-size=\"14.00\">group (3) x knot (50)</text>\n",
       "</g>\n",
       "<!-- x -->\n",
       "<g id=\"node1\" class=\"node\">\n",
       "<title>x</title>\n",
       "<path fill=\"lightgrey\" stroke=\"black\" d=\"M80,-329.62C80,-329.62 50,-329.62 50,-329.62 44,-329.62 38,-323.62 38,-317.62 38,-317.62 38,-281.87 38,-281.87 38,-275.87 44,-269.87 50,-269.87 50,-269.87 80,-269.87 80,-269.87 86,-269.87 92,-275.87 92,-281.87 92,-281.87 92,-317.62 92,-317.62 92,-323.62 86,-329.62 80,-329.62\"/>\n",
       "<text text-anchor=\"middle\" x=\"65\" y=\"-312.32\" font-family=\"Times,serif\" font-size=\"14.00\">x</text>\n",
       "<text text-anchor=\"middle\" x=\"65\" y=\"-295.07\" font-family=\"Times,serif\" font-size=\"14.00\">~</text>\n",
       "<text text-anchor=\"middle\" x=\"65\" y=\"-277.82\" font-family=\"Times,serif\" font-size=\"14.00\">Data</text>\n",
       "</g>\n",
       "<!-- y -->\n",
       "<g id=\"node3\" class=\"node\">\n",
       "<title>y</title>\n",
       "<ellipse fill=\"lightgrey\" stroke=\"black\" cx=\"65\" cy=\"-179.25\" rx=\"48.97\" ry=\"42.25\"/>\n",
       "<text text-anchor=\"middle\" x=\"65\" y=\"-191.82\" font-family=\"Times,serif\" font-size=\"14.00\">y</text>\n",
       "<text text-anchor=\"middle\" x=\"65\" y=\"-174.57\" font-family=\"Times,serif\" font-size=\"14.00\">~</text>\n",
       "<text text-anchor=\"middle\" x=\"65\" y=\"-157.32\" font-family=\"Times,serif\" font-size=\"14.00\">Normal</text>\n",
       "</g>\n",
       "<!-- x&#45;&gt;y -->\n",
       "<g id=\"edge6\" class=\"edge\">\n",
       "<title>x&#45;&gt;y</title>\n",
       "<path fill=\"none\" stroke=\"black\" d=\"M65,-269.46C65,-258.44 65,-245.54 65,-233.04\"/>\n",
       "<polygon fill=\"black\" stroke=\"black\" points=\"68.5,-233.24 65,-223.24 61.5,-233.24 68.5,-233.24\"/>\n",
       "</g>\n",
       "<!-- y_obs -->\n",
       "<g id=\"node2\" class=\"node\">\n",
       "<title>y_obs</title>\n",
       "<path fill=\"lightgrey\" stroke=\"black\" d=\"M80.88,-101C80.88,-101 49.12,-101 49.12,-101 43.12,-101 37.12,-95 37.12,-89 37.12,-89 37.12,-53.25 37.12,-53.25 37.12,-47.25 43.12,-41.25 49.12,-41.25 49.12,-41.25 80.88,-41.25 80.88,-41.25 86.88,-41.25 92.88,-47.25 92.88,-53.25 92.88,-53.25 92.88,-89 92.88,-89 92.88,-95 86.88,-101 80.88,-101\"/>\n",
       "<text text-anchor=\"middle\" x=\"65\" y=\"-83.7\" font-family=\"Times,serif\" font-size=\"14.00\">y_obs</text>\n",
       "<text text-anchor=\"middle\" x=\"65\" y=\"-66.45\" font-family=\"Times,serif\" font-size=\"14.00\">~</text>\n",
       "<text text-anchor=\"middle\" x=\"65\" y=\"-49.2\" font-family=\"Times,serif\" font-size=\"14.00\">Data</text>\n",
       "</g>\n",
       "<!-- y&#45;&gt;y_obs -->\n",
       "<g id=\"edge1\" class=\"edge\">\n",
       "<title>y&#45;&gt;y_obs</title>\n",
       "<path fill=\"none\" stroke=\"black\" d=\"M65,-136.61C65,-128.74 65,-120.53 65,-112.69\"/>\n",
       "<polygon fill=\"black\" stroke=\"black\" points=\"68.5,-112.71 65,-102.71 61.5,-112.71 68.5,-112.71\"/>\n",
       "</g>\n",
       "<!-- knots -->\n",
       "<g id=\"node4\" class=\"node\">\n",
       "<title>knots</title>\n",
       "<path fill=\"lightgrey\" stroke=\"black\" d=\"M181.5,-329.62C181.5,-329.62 150.5,-329.62 150.5,-329.62 144.5,-329.62 138.5,-323.62 138.5,-317.62 138.5,-317.62 138.5,-281.87 138.5,-281.87 138.5,-275.87 144.5,-269.87 150.5,-269.87 150.5,-269.87 181.5,-269.87 181.5,-269.87 187.5,-269.87 193.5,-275.87 193.5,-281.87 193.5,-281.87 193.5,-317.62 193.5,-317.62 193.5,-323.62 187.5,-329.62 181.5,-329.62\"/>\n",
       "<text text-anchor=\"middle\" x=\"166\" y=\"-312.32\" font-family=\"Times,serif\" font-size=\"14.00\">knots</text>\n",
       "<text text-anchor=\"middle\" x=\"166\" y=\"-295.07\" font-family=\"Times,serif\" font-size=\"14.00\">~</text>\n",
       "<text text-anchor=\"middle\" x=\"166\" y=\"-277.82\" font-family=\"Times,serif\" font-size=\"14.00\">Data</text>\n",
       "</g>\n",
       "<!-- knots&#45;&gt;y -->\n",
       "<g id=\"edge5\" class=\"edge\">\n",
       "<title>knots&#45;&gt;y</title>\n",
       "<path fill=\"none\" stroke=\"black\" d=\"M149.32,-269.55C142.63,-258.78 134.5,-246.74 126,-236.62 120.46,-230.02 114.18,-223.43 107.81,-217.21\"/>\n",
       "<polygon fill=\"black\" stroke=\"black\" points=\"110.5,-214.93 100.84,-210.58 105.68,-220.01 110.5,-214.93\"/>\n",
       "</g>\n",
       "<!-- sigma -->\n",
       "<g id=\"node5\" class=\"node\">\n",
       "<title>sigma</title>\n",
       "<ellipse fill=\"none\" stroke=\"black\" cx=\"286\" cy=\"-299.75\" rx=\"67.53\" ry=\"42.25\"/>\n",
       "<text text-anchor=\"middle\" x=\"286\" y=\"-312.32\" font-family=\"Times,serif\" font-size=\"14.00\">sigma</text>\n",
       "<text text-anchor=\"middle\" x=\"286\" y=\"-295.07\" font-family=\"Times,serif\" font-size=\"14.00\">~</text>\n",
       "<text text-anchor=\"middle\" x=\"286\" y=\"-277.82\" font-family=\"Times,serif\" font-size=\"14.00\">Halfcauchy</text>\n",
       "</g>\n",
       "<!-- sigma&#45;&gt;y -->\n",
       "<g id=\"edge7\" class=\"edge\">\n",
       "<title>sigma&#45;&gt;y</title>\n",
       "<path fill=\"none\" stroke=\"black\" d=\"M250.18,-263.52C239.18,-253.94 226.63,-244.14 214,-236.62 185.44,-219.63 150.87,-206.17 122.22,-196.67\"/>\n",
       "<polygon fill=\"black\" stroke=\"black\" points=\"123.59,-193.43 112.99,-193.69 121.43,-200.09 123.59,-193.43\"/>\n",
       "</g>\n",
       "<!-- sigma_beta0 -->\n",
       "<g id=\"node6\" class=\"node\">\n",
       "<title>sigma_beta0</title>\n",
       "<ellipse fill=\"none\" stroke=\"black\" cx=\"609\" cy=\"-546\" rx=\"74.95\" ry=\"42.25\"/>\n",
       "<text text-anchor=\"middle\" x=\"609\" y=\"-558.57\" font-family=\"Times,serif\" font-size=\"14.00\">sigma_beta0</text>\n",
       "<text text-anchor=\"middle\" x=\"609\" y=\"-541.32\" font-family=\"Times,serif\" font-size=\"14.00\">~</text>\n",
       "<text text-anchor=\"middle\" x=\"609\" y=\"-524.07\" font-family=\"Times,serif\" font-size=\"14.00\">Halfnormal</text>\n",
       "</g>\n",
       "<!-- beta_0 -->\n",
       "<g id=\"node7\" class=\"node\">\n",
       "<title>beta_0</title>\n",
       "<ellipse fill=\"none\" stroke=\"black\" cx=\"609\" cy=\"-425.5\" rx=\"68.06\" ry=\"42.25\"/>\n",
       "<text text-anchor=\"middle\" x=\"609\" y=\"-438.07\" font-family=\"Times,serif\" font-size=\"14.00\">beta_0</text>\n",
       "<text text-anchor=\"middle\" x=\"609\" y=\"-420.82\" font-family=\"Times,serif\" font-size=\"14.00\">~</text>\n",
       "<text text-anchor=\"middle\" x=\"609\" y=\"-403.57\" font-family=\"Times,serif\" font-size=\"14.00\">Halfnormal</text>\n",
       "</g>\n",
       "<!-- sigma_beta0&#45;&gt;beta_0 -->\n",
       "<g id=\"edge2\" class=\"edge\">\n",
       "<title>sigma_beta0&#45;&gt;beta_0</title>\n",
       "<path fill=\"none\" stroke=\"black\" d=\"M609,-503.55C609,-495.75 609,-487.49 609,-479.4\"/>\n",
       "<polygon fill=\"black\" stroke=\"black\" points=\"612.5,-479.63 609,-469.63 605.5,-479.63 612.5,-479.63\"/>\n",
       "</g>\n",
       "<!-- beta -->\n",
       "<g id=\"node8\" class=\"node\">\n",
       "<title>beta</title>\n",
       "<polygon fill=\"none\" stroke=\"black\" points=\"500.75,-329.62 387.25,-329.62 387.25,-269.87 500.75,-269.87 500.75,-329.62\"/>\n",
       "<text text-anchor=\"middle\" x=\"444\" y=\"-312.32\" font-family=\"Times,serif\" font-size=\"14.00\">beta</text>\n",
       "<text text-anchor=\"middle\" x=\"444\" y=\"-295.07\" font-family=\"Times,serif\" font-size=\"14.00\">~</text>\n",
       "<text text-anchor=\"middle\" x=\"444\" y=\"-277.82\" font-family=\"Times,serif\" font-size=\"14.00\">Deterministic</text>\n",
       "</g>\n",
       "<!-- beta_0&#45;&gt;beta -->\n",
       "<g id=\"edge3\" class=\"edge\">\n",
       "<title>beta_0&#45;&gt;beta</title>\n",
       "<path fill=\"none\" stroke=\"black\" d=\"M574.26,-388.94C560.73,-375.97 544.71,-361.63 529,-350 522.5,-345.18 515.49,-340.46 508.38,-335.96\"/>\n",
       "<polygon fill=\"black\" stroke=\"black\" points=\"510.3,-333.04 499.95,-330.78 506.63,-339 510.3,-333.04\"/>\n",
       "</g>\n",
       "<!-- beta&#45;&gt;y -->\n",
       "<g id=\"edge8\" class=\"edge\">\n",
       "<title>beta&#45;&gt;y</title>\n",
       "<path fill=\"none\" stroke=\"black\" d=\"M413.14,-269.59C398.89,-257.63 381.12,-244.73 363,-236.62 285.51,-201.96 187.44,-188.6 125.44,-183.46\"/>\n",
       "<polygon fill=\"black\" stroke=\"black\" points=\"126.04,-179.99 115.8,-182.71 125.5,-186.97 126.04,-179.99\"/>\n",
       "</g>\n",
       "<!-- z -->\n",
       "<g id=\"node9\" class=\"node\">\n",
       "<title>z</title>\n",
       "<ellipse fill=\"none\" stroke=\"black\" cx=\"444\" cy=\"-425.5\" rx=\"48.97\" ry=\"42.25\"/>\n",
       "<text text-anchor=\"middle\" x=\"444\" y=\"-438.07\" font-family=\"Times,serif\" font-size=\"14.00\">z</text>\n",
       "<text text-anchor=\"middle\" x=\"444\" y=\"-420.82\" font-family=\"Times,serif\" font-size=\"14.00\">~</text>\n",
       "<text text-anchor=\"middle\" x=\"444\" y=\"-403.57\" font-family=\"Times,serif\" font-size=\"14.00\">Normal</text>\n",
       "</g>\n",
       "<!-- z&#45;&gt;beta -->\n",
       "<g id=\"edge4\" class=\"edge\">\n",
       "<title>z&#45;&gt;beta</title>\n",
       "<path fill=\"none\" stroke=\"black\" d=\"M444,-382.95C444,-369.48 444,-354.57 444,-341.18\"/>\n",
       "<polygon fill=\"black\" stroke=\"black\" points=\"447.5,-341.4 444,-331.4 440.5,-341.4 447.5,-341.4\"/>\n",
       "</g>\n",
       "</g>\n",
       "</svg>\n"
      ],
      "text/plain": [
       "<graphviz.graphs.Digraph at 0x7fb89c9ef740>"
      ]
     },
     "execution_count": 31,
     "metadata": {},
     "output_type": "execute_result"
    }
   ],
   "source": [
    "dims_splines_model.to_graphviz()"
   ]
  },
  {
   "cell_type": "code",
   "execution_count": 32,
   "id": "3a9dd4669342ff9e",
   "metadata": {
    "ExecuteTime": {
     "end_time": "2025-06-30T15:53:42.797760Z",
     "start_time": "2025-06-30T15:53:42.794464Z"
    }
   },
   "outputs": [],
   "source": [
    "# Comment out if you want to wait a long while for the results\n",
    "# non_vectorized_splines_model.point_logps()"
   ]
  },
  {
   "cell_type": "code",
   "execution_count": 33,
   "id": "86701f276baaa7c",
   "metadata": {
    "ExecuteTime": {
     "end_time": "2025-06-30T15:53:44.309696Z",
     "start_time": "2025-06-30T15:53:43.273978Z"
    }
   },
   "outputs": [
    {
     "data": {
      "text/plain": [
       "{'sigma': np.float64(-1.14),\n",
       " 'sigma_beta0': np.float64(-0.73),\n",
       " 'beta_0': np.float64(-2.18),\n",
       " 'z': np.float64(-137.84),\n",
       " 'y': np.float64(-319962.47)}"
      ]
     },
     "execution_count": 33,
     "metadata": {},
     "output_type": "execute_result"
    }
   ],
   "source": [
    "vectorized_splines_model.point_logps()"
   ]
  },
  {
   "cell_type": "code",
   "execution_count": 34,
   "id": "f34c353131915cef",
   "metadata": {
    "ExecuteTime": {
     "end_time": "2025-06-30T15:53:46.279261Z",
     "start_time": "2025-06-30T15:53:45.344064Z"
    }
   },
   "outputs": [
    {
     "data": {
      "text/plain": [
       "{'sigma': np.float64(-1.14),\n",
       " 'sigma_beta0': np.float64(-0.73),\n",
       " 'beta_0': np.float64(-2.18),\n",
       " 'z': np.float64(-137.84),\n",
       " 'y': np.float64(-319962.47)}"
      ]
     },
     "execution_count": 34,
     "metadata": {},
     "output_type": "execute_result"
    }
   ],
   "source": [
    "dims_splines_model.point_logps()"
   ]
  },
  {
   "cell_type": "markdown",
   "id": "1bb865850774d0b2",
   "metadata": {},
   "source": [
    "We have just two more nodes in the computation graph, with no impact on performance"
   ]
  },
  {
   "cell_type": "code",
   "execution_count": 35,
   "id": "ae2afa7841251f6c",
   "metadata": {
    "ExecuteTime": {
     "end_time": "2025-07-08T17:06:40.561788Z",
     "start_time": "2025-07-08T17:06:40.554136Z"
    }
   },
   "outputs": [
    {
     "name": "stdout",
     "output_type": "stream",
     "text": [
      "Vectorized model has 38 nodes\n",
      "Vectorized model with dims has 40 nodes\n"
     ]
    }
   ],
   "source": [
    "print(f\"Vectorized model has {count_nodes(vectorized_splines_model)} nodes\")\n",
    "print(f\"Vectorized model with dims has {count_nodes(dims_splines_model)} nodes\")"
   ]
  },
  {
   "cell_type": "markdown",
   "id": "014c701b-1e23-4fc4-ae55-4279263b2ed9",
   "metadata": {},
   "source": [
    "This wraps the presentation of the {mod}`pymc.dims` module. We invite you to try it out and report any problems you may find. If you wish to contribute missing functionality get involved in our [Github repository](https://github.com/pymc-devs/pymc)."
   ]
  },
  {
   "cell_type": "markdown",
   "id": "2059b00d-6d6a-41af-8e71-3709e6a33dcc",
   "metadata": {},
   "source": [
    "## Questions and answers"
   ]
  },
  {
   "cell_type": "markdown",
   "id": "8d1a93d8-6fc5-42db-bae0-d4a3fd68abf7",
   "metadata": {},
   "source": [
    "### How to get xarray out of XTensorVariables?"
   ]
  },
  {
   "cell_type": "markdown",
   "id": "0b8d9835-1bcd-4a20-a925-2ac88045113c",
   "metadata": {},
   "source": [
    "Usually PyMC routines take care of converting outputs to Xarray for the user. \n",
    "\n",
    "If you want to evaluate an expression yourself you'll likely get a numpy array back. \n",
    "To convert to a {class}`~xarray.DataArray` simply reuse the `dims` attribute from the PyMC variable."
   ]
  },
  {
   "cell_type": "code",
   "execution_count": 36,
   "id": "7ea9dc87-77e5-40f1-95ec-233984912443",
   "metadata": {},
   "outputs": [
    {
     "data": {
      "text/html": [
       "<div><svg style=\"position: absolute; width: 0; height: 0; overflow: hidden\">\n",
       "<defs>\n",
       "<symbol id=\"icon-database\" viewBox=\"0 0 32 32\">\n",
       "<path d=\"M16 0c-8.837 0-16 2.239-16 5v4c0 2.761 7.163 5 16 5s16-2.239 16-5v-4c0-2.761-7.163-5-16-5z\"></path>\n",
       "<path d=\"M16 17c-8.837 0-16-2.239-16-5v6c0 2.761 7.163 5 16 5s16-2.239 16-5v-6c0 2.761-7.163 5-16 5z\"></path>\n",
       "<path d=\"M16 26c-8.837 0-16-2.239-16-5v6c0 2.761 7.163 5 16 5s16-2.239 16-5v-6c0 2.761-7.163 5-16 5z\"></path>\n",
       "</symbol>\n",
       "<symbol id=\"icon-file-text2\" viewBox=\"0 0 32 32\">\n",
       "<path d=\"M28.681 7.159c-0.694-0.947-1.662-2.053-2.724-3.116s-2.169-2.030-3.116-2.724c-1.612-1.182-2.393-1.319-2.841-1.319h-15.5c-1.378 0-2.5 1.121-2.5 2.5v27c0 1.378 1.122 2.5 2.5 2.5h23c1.378 0 2.5-1.122 2.5-2.5v-19.5c0-0.448-0.137-1.23-1.319-2.841zM24.543 5.457c0.959 0.959 1.712 1.825 2.268 2.543h-4.811v-4.811c0.718 0.556 1.584 1.309 2.543 2.268zM28 29.5c0 0.271-0.229 0.5-0.5 0.5h-23c-0.271 0-0.5-0.229-0.5-0.5v-27c0-0.271 0.229-0.5 0.5-0.5 0 0 15.499-0 15.5 0v7c0 0.552 0.448 1 1 1h7v19.5z\"></path>\n",
       "<path d=\"M23 26h-14c-0.552 0-1-0.448-1-1s0.448-1 1-1h14c0.552 0 1 0.448 1 1s-0.448 1-1 1z\"></path>\n",
       "<path d=\"M23 22h-14c-0.552 0-1-0.448-1-1s0.448-1 1-1h14c0.552 0 1 0.448 1 1s-0.448 1-1 1z\"></path>\n",
       "<path d=\"M23 18h-14c-0.552 0-1-0.448-1-1s0.448-1 1-1h14c0.552 0 1 0.448 1 1s-0.448 1-1 1z\"></path>\n",
       "</symbol>\n",
       "</defs>\n",
       "</svg>\n",
       "<style>/* CSS stylesheet for displaying xarray objects in jupyterlab.\n",
       " *\n",
       " */\n",
       "\n",
       ":root {\n",
       "  --xr-font-color0: var(--jp-content-font-color0, rgba(0, 0, 0, 1));\n",
       "  --xr-font-color2: var(--jp-content-font-color2, rgba(0, 0, 0, 0.54));\n",
       "  --xr-font-color3: var(--jp-content-font-color3, rgba(0, 0, 0, 0.38));\n",
       "  --xr-border-color: var(--jp-border-color2, #e0e0e0);\n",
       "  --xr-disabled-color: var(--jp-layout-color3, #bdbdbd);\n",
       "  --xr-background-color: var(--jp-layout-color0, white);\n",
       "  --xr-background-color-row-even: var(--jp-layout-color1, white);\n",
       "  --xr-background-color-row-odd: var(--jp-layout-color2, #eeeeee);\n",
       "}\n",
       "\n",
       "html[theme=\"dark\"],\n",
       "html[data-theme=\"dark\"],\n",
       "body[data-theme=\"dark\"],\n",
       "body.vscode-dark {\n",
       "  --xr-font-color0: rgba(255, 255, 255, 1);\n",
       "  --xr-font-color2: rgba(255, 255, 255, 0.54);\n",
       "  --xr-font-color3: rgba(255, 255, 255, 0.38);\n",
       "  --xr-border-color: #1f1f1f;\n",
       "  --xr-disabled-color: #515151;\n",
       "  --xr-background-color: #111111;\n",
       "  --xr-background-color-row-even: #111111;\n",
       "  --xr-background-color-row-odd: #313131;\n",
       "}\n",
       "\n",
       ".xr-wrap {\n",
       "  display: block !important;\n",
       "  min-width: 300px;\n",
       "  max-width: 700px;\n",
       "}\n",
       "\n",
       ".xr-text-repr-fallback {\n",
       "  /* fallback to plain text repr when CSS is not injected (untrusted notebook) */\n",
       "  display: none;\n",
       "}\n",
       "\n",
       ".xr-header {\n",
       "  padding-top: 6px;\n",
       "  padding-bottom: 6px;\n",
       "  margin-bottom: 4px;\n",
       "  border-bottom: solid 1px var(--xr-border-color);\n",
       "}\n",
       "\n",
       ".xr-header > div,\n",
       ".xr-header > ul {\n",
       "  display: inline;\n",
       "  margin-top: 0;\n",
       "  margin-bottom: 0;\n",
       "}\n",
       "\n",
       ".xr-obj-type,\n",
       ".xr-array-name {\n",
       "  margin-left: 2px;\n",
       "  margin-right: 10px;\n",
       "}\n",
       "\n",
       ".xr-obj-type {\n",
       "  color: var(--xr-font-color2);\n",
       "}\n",
       "\n",
       ".xr-sections {\n",
       "  padding-left: 0 !important;\n",
       "  display: grid;\n",
       "  grid-template-columns: 150px auto auto 1fr 0 20px 0 20px;\n",
       "}\n",
       "\n",
       ".xr-section-item {\n",
       "  display: contents;\n",
       "}\n",
       "\n",
       ".xr-section-item input {\n",
       "  display: inline-block;\n",
       "  opacity: 0;\n",
       "  height: 0;\n",
       "}\n",
       "\n",
       ".xr-section-item input + label {\n",
       "  color: var(--xr-disabled-color);\n",
       "}\n",
       "\n",
       ".xr-section-item input:enabled + label {\n",
       "  cursor: pointer;\n",
       "  color: var(--xr-font-color2);\n",
       "}\n",
       "\n",
       ".xr-section-item input:focus + label {\n",
       "  border: 2px solid var(--xr-font-color0);\n",
       "}\n",
       "\n",
       ".xr-section-item input:enabled + label:hover {\n",
       "  color: var(--xr-font-color0);\n",
       "}\n",
       "\n",
       ".xr-section-summary {\n",
       "  grid-column: 1;\n",
       "  color: var(--xr-font-color2);\n",
       "  font-weight: 500;\n",
       "}\n",
       "\n",
       ".xr-section-summary > span {\n",
       "  display: inline-block;\n",
       "  padding-left: 0.5em;\n",
       "}\n",
       "\n",
       ".xr-section-summary-in:disabled + label {\n",
       "  color: var(--xr-font-color2);\n",
       "}\n",
       "\n",
       ".xr-section-summary-in + label:before {\n",
       "  display: inline-block;\n",
       "  content: \"►\";\n",
       "  font-size: 11px;\n",
       "  width: 15px;\n",
       "  text-align: center;\n",
       "}\n",
       "\n",
       ".xr-section-summary-in:disabled + label:before {\n",
       "  color: var(--xr-disabled-color);\n",
       "}\n",
       "\n",
       ".xr-section-summary-in:checked + label:before {\n",
       "  content: \"▼\";\n",
       "}\n",
       "\n",
       ".xr-section-summary-in:checked + label > span {\n",
       "  display: none;\n",
       "}\n",
       "\n",
       ".xr-section-summary,\n",
       ".xr-section-inline-details {\n",
       "  padding-top: 4px;\n",
       "  padding-bottom: 4px;\n",
       "}\n",
       "\n",
       ".xr-section-inline-details {\n",
       "  grid-column: 2 / -1;\n",
       "}\n",
       "\n",
       ".xr-section-details {\n",
       "  display: none;\n",
       "  grid-column: 1 / -1;\n",
       "  margin-bottom: 5px;\n",
       "}\n",
       "\n",
       ".xr-section-summary-in:checked ~ .xr-section-details {\n",
       "  display: contents;\n",
       "}\n",
       "\n",
       ".xr-array-wrap {\n",
       "  grid-column: 1 / -1;\n",
       "  display: grid;\n",
       "  grid-template-columns: 20px auto;\n",
       "}\n",
       "\n",
       ".xr-array-wrap > label {\n",
       "  grid-column: 1;\n",
       "  vertical-align: top;\n",
       "}\n",
       "\n",
       ".xr-preview {\n",
       "  color: var(--xr-font-color3);\n",
       "}\n",
       "\n",
       ".xr-array-preview,\n",
       ".xr-array-data {\n",
       "  padding: 0 5px !important;\n",
       "  grid-column: 2;\n",
       "}\n",
       "\n",
       ".xr-array-data,\n",
       ".xr-array-in:checked ~ .xr-array-preview {\n",
       "  display: none;\n",
       "}\n",
       "\n",
       ".xr-array-in:checked ~ .xr-array-data,\n",
       ".xr-array-preview {\n",
       "  display: inline-block;\n",
       "}\n",
       "\n",
       ".xr-dim-list {\n",
       "  display: inline-block !important;\n",
       "  list-style: none;\n",
       "  padding: 0 !important;\n",
       "  margin: 0;\n",
       "}\n",
       "\n",
       ".xr-dim-list li {\n",
       "  display: inline-block;\n",
       "  padding: 0;\n",
       "  margin: 0;\n",
       "}\n",
       "\n",
       ".xr-dim-list:before {\n",
       "  content: \"(\";\n",
       "}\n",
       "\n",
       ".xr-dim-list:after {\n",
       "  content: \")\";\n",
       "}\n",
       "\n",
       ".xr-dim-list li:not(:last-child):after {\n",
       "  content: \",\";\n",
       "  padding-right: 5px;\n",
       "}\n",
       "\n",
       ".xr-has-index {\n",
       "  font-weight: bold;\n",
       "}\n",
       "\n",
       ".xr-var-list,\n",
       ".xr-var-item {\n",
       "  display: contents;\n",
       "}\n",
       "\n",
       ".xr-var-item > div,\n",
       ".xr-var-item label,\n",
       ".xr-var-item > .xr-var-name span {\n",
       "  background-color: var(--xr-background-color-row-even);\n",
       "  margin-bottom: 0;\n",
       "}\n",
       "\n",
       ".xr-var-item > .xr-var-name:hover span {\n",
       "  padding-right: 5px;\n",
       "}\n",
       "\n",
       ".xr-var-list > li:nth-child(odd) > div,\n",
       ".xr-var-list > li:nth-child(odd) > label,\n",
       ".xr-var-list > li:nth-child(odd) > .xr-var-name span {\n",
       "  background-color: var(--xr-background-color-row-odd);\n",
       "}\n",
       "\n",
       ".xr-var-name {\n",
       "  grid-column: 1;\n",
       "}\n",
       "\n",
       ".xr-var-dims {\n",
       "  grid-column: 2;\n",
       "}\n",
       "\n",
       ".xr-var-dtype {\n",
       "  grid-column: 3;\n",
       "  text-align: right;\n",
       "  color: var(--xr-font-color2);\n",
       "}\n",
       "\n",
       ".xr-var-preview {\n",
       "  grid-column: 4;\n",
       "}\n",
       "\n",
       ".xr-index-preview {\n",
       "  grid-column: 2 / 5;\n",
       "  color: var(--xr-font-color2);\n",
       "}\n",
       "\n",
       ".xr-var-name,\n",
       ".xr-var-dims,\n",
       ".xr-var-dtype,\n",
       ".xr-preview,\n",
       ".xr-attrs dt {\n",
       "  white-space: nowrap;\n",
       "  overflow: hidden;\n",
       "  text-overflow: ellipsis;\n",
       "  padding-right: 10px;\n",
       "}\n",
       "\n",
       ".xr-var-name:hover,\n",
       ".xr-var-dims:hover,\n",
       ".xr-var-dtype:hover,\n",
       ".xr-attrs dt:hover {\n",
       "  overflow: visible;\n",
       "  width: auto;\n",
       "  z-index: 1;\n",
       "}\n",
       "\n",
       ".xr-var-attrs,\n",
       ".xr-var-data,\n",
       ".xr-index-data {\n",
       "  display: none;\n",
       "  background-color: var(--xr-background-color) !important;\n",
       "  padding-bottom: 5px !important;\n",
       "}\n",
       "\n",
       ".xr-var-attrs-in:checked ~ .xr-var-attrs,\n",
       ".xr-var-data-in:checked ~ .xr-var-data,\n",
       ".xr-index-data-in:checked ~ .xr-index-data {\n",
       "  display: block;\n",
       "}\n",
       "\n",
       ".xr-var-data > table {\n",
       "  float: right;\n",
       "}\n",
       "\n",
       ".xr-var-name span,\n",
       ".xr-var-data,\n",
       ".xr-index-name div,\n",
       ".xr-index-data,\n",
       ".xr-attrs {\n",
       "  padding-left: 25px !important;\n",
       "}\n",
       "\n",
       ".xr-attrs,\n",
       ".xr-var-attrs,\n",
       ".xr-var-data,\n",
       ".xr-index-data {\n",
       "  grid-column: 1 / -1;\n",
       "}\n",
       "\n",
       "dl.xr-attrs {\n",
       "  padding: 0;\n",
       "  margin: 0;\n",
       "  display: grid;\n",
       "  grid-template-columns: 125px auto;\n",
       "}\n",
       "\n",
       ".xr-attrs dt,\n",
       ".xr-attrs dd {\n",
       "  padding: 0;\n",
       "  margin: 0;\n",
       "  float: left;\n",
       "  padding-right: 10px;\n",
       "  width: auto;\n",
       "}\n",
       "\n",
       ".xr-attrs dt {\n",
       "  font-weight: normal;\n",
       "  grid-column: 1;\n",
       "}\n",
       "\n",
       ".xr-attrs dt:hover span {\n",
       "  display: inline-block;\n",
       "  background: var(--xr-background-color);\n",
       "  padding-right: 10px;\n",
       "}\n",
       "\n",
       ".xr-attrs dd {\n",
       "  grid-column: 2;\n",
       "  white-space: pre-wrap;\n",
       "  word-break: break-all;\n",
       "}\n",
       "\n",
       ".xr-icon-database,\n",
       ".xr-icon-file-text2,\n",
       ".xr-no-icon {\n",
       "  display: inline-block;\n",
       "  vertical-align: middle;\n",
       "  width: 1em;\n",
       "  height: 1.5em !important;\n",
       "  stroke-width: 0;\n",
       "  stroke: currentColor;\n",
       "  fill: currentColor;\n",
       "}\n",
       "</style><pre class='xr-text-repr-fallback'>&lt;xarray.DataArray (a: 3, b: 3)&gt; Size: 72B\n",
       "array([[-3.28099006, -1.57426294,  1.21146118],\n",
       "       [-1.57426294,  0.13246418,  2.9181883 ],\n",
       "       [ 1.21146118,  2.9181883 ,  5.70391243]])\n",
       "Dimensions without coordinates: a, b</pre><div class='xr-wrap' style='display:none'><div class='xr-header'><div class='xr-obj-type'>xarray.DataArray</div><div class='xr-array-name'></div><ul class='xr-dim-list'><li><span>a</span>: 3</li><li><span>b</span>: 3</li></ul></div><ul class='xr-sections'><li class='xr-section-item'><div class='xr-array-wrap'><input id='section-c075730e-3bb2-40e9-b11b-066770459a58' class='xr-array-in' type='checkbox' checked><label for='section-c075730e-3bb2-40e9-b11b-066770459a58' title='Show/hide data repr'><svg class='icon xr-icon-database'><use xlink:href='#icon-database'></use></svg></label><div class='xr-array-preview xr-preview'><span>-3.281 -1.574 1.211 -1.574 0.1325 2.918 1.211 2.918 5.704</span></div><div class='xr-array-data'><pre>array([[-3.28099006, -1.57426294,  1.21146118],\n",
       "       [-1.57426294,  0.13246418,  2.9181883 ],\n",
       "       [ 1.21146118,  2.9181883 ,  5.70391243]])</pre></div></div></li><li class='xr-section-item'><input id='section-c02b5d19-bc14-4526-be6b-4ba1f5d6bd1f' class='xr-section-summary-in' type='checkbox' disabled ><label for='section-c02b5d19-bc14-4526-be6b-4ba1f5d6bd1f' class='xr-section-summary'  title='Expand/collapse section'>Coordinates: <span>(0)</span></label><div class='xr-section-inline-details'></div><div class='xr-section-details'><ul class='xr-var-list'></ul></div></li><li class='xr-section-item'><input id='section-8abc5977-f056-4111-ab3a-91cf357e5fcd' class='xr-section-summary-in' type='checkbox' disabled ><label for='section-8abc5977-f056-4111-ab3a-91cf357e5fcd' class='xr-section-summary'  title='Expand/collapse section'>Indexes: <span>(0)</span></label><div class='xr-section-inline-details'></div><div class='xr-section-details'><ul class='xr-var-list'></ul></div></li><li class='xr-section-item'><input id='section-f66d2aa3-8afe-4fcf-b86a-a6f56a2b5b80' class='xr-section-summary-in' type='checkbox' disabled ><label for='section-f66d2aa3-8afe-4fcf-b86a-a6f56a2b5b80' class='xr-section-summary'  title='Expand/collapse section'>Attributes: <span>(0)</span></label><div class='xr-section-inline-details'></div><div class='xr-section-details'><dl class='xr-attrs'></dl></div></li></ul></div></div>"
      ],
      "text/plain": [
       "<xarray.DataArray (a: 3, b: 3)> Size: 72B\n",
       "array([[-3.28099006, -1.57426294,  1.21146118],\n",
       "       [-1.57426294,  0.13246418,  2.9181883 ],\n",
       "       [ 1.21146118,  2.9181883 ,  5.70391243]])\n",
       "Dimensions without coordinates: a, b"
      ]
     },
     "execution_count": 36,
     "metadata": {},
     "output_type": "execute_result"
    }
   ],
   "source": [
    "from xarray import DataArray\n",
    "\n",
    "x = pm.dims.Normal.dist(dim_lengths={\"a\": 3})\n",
    "outer_x = x + x.rename({\"a\": \"b\"})\n",
    "res_numpy = pm.draw(outer_addition)\n",
    "res_xr = DataArray(res_numpy, dims=outer_addition.dims)\n",
    "res_xr"
   ]
  },
  {
   "cell_type": "markdown",
   "id": "93ec3533ec122baa",
   "metadata": {
    "ExecuteTime": {
     "end_time": "2025-06-26T21:32:29.344857Z",
     "start_time": "2025-06-26T21:32:28.811467Z"
    }
   },
   "source": [
    "### Why aren't coordinate-based operations supported?"
   ]
  },
  {
   "cell_type": "markdown",
   "id": "b20324c9f4f65d4b",
   "metadata": {},
   "source": [
    "The new xtensor variable and operations do not propagate information about coordinates, which means you cannot perform coordinate-related operations like `sel`, `loc`, `drop`.\n",
    "\n",
    "This limitation might be disappointing for someone used to Xarray, it is a necessary trade-off to allow PyMC to evaluate the model in a performant way.\n",
    "PyMC uses PyTensor under the hood, which compiles functions to C (or numba or JAX) backends. None of these backends support dims or coordinates.\n",
    "To work with these backends, PyTensor rewrites xtensor operations using equivalent tensor operations, which are pretty much abstract NumPy code. This is relatively easy to do, because it's mostly about aligning dimensions for broadcasting or indexing correctly.\n",
    "\n",
    "Rewriting coordinate-related operations into NumPy-like code is a different matter. Many such operations don't have straightforward equivalency, they are more like querying or joining a database than performing array operations.\n",
    "\n",
    "PyMC models will keep supporting the `coords` argument as a way to specify dimensions of model variables. But for modeling purposes, only the dimension names and their lengths play a role."
   ]
  },
  {
   "cell_type": "markdown",
   "id": "f963a53c229c04b9",
   "metadata": {},
   "source": [
    "### One final note of caution on coordinates"
   ]
  },
  {
   "cell_type": "markdown",
   "id": "626c004fa7abdccf",
   "metadata": {},
   "source": [
    "When you provide coords to a PyMC model, they are attached to any functions that returns Xarray or InferenceData objects.\n",
    "\n",
    "This creates a potential problem.\n",
    "\n",
    "Suppose we have multiple arrays with the same dims but different shapes.\n",
    "This is legal in PyMC, as in Xarray, and some operations, like indexing or concatenating, can handle it.\n",
    "\n",
    "However, after sampling, PyMC tries to reattach the coordinates to any computed variables, and these might not have the right shape, or they might not be correctly aligned.\n",
    "\n",
    "When PyMC tries to convert the results of sampling to InferenceData, it will issue a warning and refuse to propagate the original coordinates.\n",
    "\n",
    "Here's an example where we have two variables with the `a` dim but different shapes, and only one matches the shape of the coordinates specified in the model."
   ]
  },
  {
   "cell_type": "code",
   "execution_count": 37,
   "id": "2c6f3a2b70a4d77d",
   "metadata": {
    "ExecuteTime": {
     "end_time": "2025-06-30T15:53:46.850715Z",
     "start_time": "2025-06-30T15:53:46.750208Z"
    }
   },
   "outputs": [
    {
     "name": "stderr",
     "output_type": "stream",
     "text": [
      "Sampling: [x]\n",
      "/home/ricardo/Documents/pymc/pymc/backends/arviz.py:70: UserWarning: Incompatible coordinate length of 3 for dimension 'a' of variable 'y'.\n",
      "This usually happens when a sliced or concatenated variable is wrapped as a `pymc.dims.Deterministic`.The originate coordinates for this dim will not be included in the returned dataset for any of the variables. Instead they will default to `np.arange(var_length)` and the shorter variables will be right-padded with nan.\n",
      "To make this warning into an error set `pymc.backends.arviz.RAISE_ON_INCOMPATIBLE_COORD_LENGTHS` to `True`\n",
      "  warnings.warn(\n"
     ]
    },
    {
     "data": {
      "text/plain": [
       "Coordinates:\n",
       "  * chain    (chain) int64 8B 0\n",
       "  * draw     (draw) int64 4kB 0 1 2 3 4 5 6 7 ... 493 494 495 496 497 498 499\n",
       "  * a        (a) int64 24B 0 1 2"
      ]
     },
     "execution_count": 37,
     "metadata": {},
     "output_type": "execute_result"
    }
   ],
   "source": [
    "with pm.Model(coords={\"a\": [-1, 0, 1]}) as m:\n",
    "    x = pmd.Normal(\"x\", dims=(\"a\",))\n",
    "    y = pmd.Deterministic(\"y\", x.isel(a=slice(1, None)))\n",
    "    assert y.dims == (\"a\",)\n",
    "\n",
    "    idata = pm.sample_prior_predictive()\n",
    "idata.prior[\"y\"].coords"
   ]
  },
  {
   "cell_type": "markdown",
   "id": "a20137348aa4f5bf",
   "metadata": {
    "ExecuteTime": {
     "end_time": "2025-06-26T21:31:08.371358319Z",
     "start_time": "2025-06-26T11:42:20.084741Z"
    }
   },
   "source": [
    "One way to work around this limitation is to rename the dimensions to avoid the conflict."
   ]
  },
  {
   "cell_type": "code",
   "execution_count": 38,
   "id": "466f152cb249d1d2",
   "metadata": {
    "ExecuteTime": {
     "end_time": "2025-06-30T15:53:47.572296Z",
     "start_time": "2025-06-30T15:53:47.486879Z"
    }
   },
   "outputs": [
    {
     "name": "stderr",
     "output_type": "stream",
     "text": [
      "Sampling: [x]\n"
     ]
    },
    {
     "data": {
      "text/plain": [
       "Coordinates:\n",
       "  * chain    (chain) int64 8B 0\n",
       "  * draw     (draw) int64 8B 0\n",
       "  * a*       (a*) int64 16B -2 -1"
      ]
     },
     "execution_count": 38,
     "metadata": {},
     "output_type": "execute_result"
    }
   ],
   "source": [
    "with pm.Model(coords={\"a\": [-3, -2, -1], \"a*\": [-2, -1]}) as m:\n",
    "    x = pmd.Normal(\"x\", dims=(\"a\",))\n",
    "    y = pmd.Deterministic(\"y\", x.isel(a=slice(1, None)).rename({\"a\": \"a*\"}))\n",
    "    assert y.dims == (\"a*\",)\n",
    "    # You can rename back to the original name if you need it for further operations\n",
    "    y = y.rename({\"a*\": \"a\"})\n",
    "\n",
    "    idata = pm.sample_prior_predictive(draws=1)\n",
    "idata.prior[\"y\"].coords"
   ]
  },
  {
   "cell_type": "markdown",
   "id": "9a051144b1259fc8",
   "metadata": {
    "ExecuteTime": {
     "end_time": "2025-06-26T21:31:08.371499143Z",
     "start_time": "2025-06-26T11:42:20.159762Z"
    }
   },
   "source": [
    "An alternative is to manually specify the coordinates after sampling.\n",
    "\n",
    "Note that when doing advanced indexing the name of the indexed dimension can be controlled by the name of the indexing xtensor"
   ]
  },
  {
   "cell_type": "code",
   "execution_count": 39,
   "id": "87726153a7d1fd2",
   "metadata": {
    "ExecuteTime": {
     "end_time": "2025-06-30T15:53:48.186501Z",
     "start_time": "2025-06-30T15:53:48.181799Z"
    }
   },
   "outputs": [
    {
     "data": {
      "text/plain": [
       "('a*',)"
      ]
     },
     "execution_count": 39,
     "metadata": {},
     "output_type": "execute_result"
    }
   ],
   "source": [
    "x.isel(a=pmd.math.as_xtensor([0, 1, 2], dims=(\"a*\",))).dims"
   ]
  },
  {
   "cell_type": "markdown",
   "id": "38a8684f-4849-4f69-a7c7-7433182358c2",
   "metadata": {},
   "source": [
    "However, silent bugs can still happen if the shapes are compatible but the coordinates are not correct.\n",
    "For example, in this model the coordinates are reversed, but the shape matches, so the error is not detected."
   ]
  },
  {
   "cell_type": "code",
   "execution_count": 40,
   "id": "8443e99c-8c90-40e1-8189-943e374c1387",
   "metadata": {
    "ExecuteTime": {
     "end_time": "2025-06-30T15:53:48.819667Z",
     "start_time": "2025-06-30T15:53:48.747097Z"
    }
   },
   "outputs": [
    {
     "name": "stderr",
     "output_type": "stream",
     "text": [
      "Sampling: [x]\n"
     ]
    },
    {
     "data": {
      "text/plain": [
       "array([[[-1.53640397,  0.        ,  1.53640397]]])"
      ]
     },
     "execution_count": 40,
     "metadata": {},
     "output_type": "execute_result"
    }
   ],
   "source": [
    "with pm.Model(coords={\"a\": [1, 2, 3]}):\n",
    "    x = pmd.Normal(\"x\", dims=(\"a\",))\n",
    "    pmd.Deterministic(\"x_reversed\", x[::-1])\n",
    "    idata = pm.sample_prior_predictive(draws=1)\n",
    "(idata.prior[\"x\"] - idata.prior[\"x_reversed\"]).values"
   ]
  },
  {
   "cell_type": "markdown",
   "id": "1fd902d9-33fd-40d6-a66d-fc15f1064b5c",
   "metadata": {},
   "source": [
    "In Xarray the results would be correct because it is aware of the coordinates, not just the shape."
   ]
  },
  {
   "cell_type": "code",
   "execution_count": 41,
   "id": "2d282c1a-8a30-476d-8d92-94ea9f9a6971",
   "metadata": {
    "ExecuteTime": {
     "end_time": "2025-06-30T15:53:49.345188Z",
     "start_time": "2025-06-30T15:53:49.337999Z"
    }
   },
   "outputs": [
    {
     "data": {
      "text/plain": [
       "array([[[0., 0., 0.]]])"
      ]
     },
     "execution_count": 41,
     "metadata": {},
     "output_type": "execute_result"
    }
   ],
   "source": [
    "(idata.prior[\"x\"] - idata.prior[\"x\"].isel(a=slice(None, None, -1))).values"
   ]
  },
  {
   "cell_type": "markdown",
   "id": "fa8552be-16b8-4dd0-9bdc-38df8d5609b1",
   "metadata": {},
   "source": [
    "Is not a new problem with the {mod}`pymc.dims` module; it is a consequence of PyMC's inability to reason about coords symbolically.\n",
    "But this kind of error is made more likely because functions from the {mod}`pymc.dims` module always propagate dimension names to the model object.\n",
    "\n",
    "We remind users that {func}`pymc.dims.Deterministic` variables are never required in a model; they are just a way to calculate and store the results of intermediate operations. If you use them, pay extra attention as to whether the model coordinates are appropriate for the variable stored in the  {func}`pymc.dims.Deterministic` (and not just their length but ordering as well).\n",
    "\n",
    "Alternatively, you can use the regular {func}`pymc.Deterministic` without specifying `dims`, which will not propagate the coordinates to the model. Keep in mind that the respective dimensions will be considered unique after sampling, and operations between variables that had shared dims in the original model will broadcast orthogonally in the returned InferenceData variables.\n",
    "\n",
    "If you need variables to have the same dims but different coords, you can always fix them manually."
   ]
  },
  {
   "cell_type": "code",
   "execution_count": 42,
   "id": "f994c42a-8468-4e98-96e2-eec1086cc7d4",
   "metadata": {},
   "outputs": [
    {
     "data": {
      "text/html": [
       "<div><svg style=\"position: absolute; width: 0; height: 0; overflow: hidden\">\n",
       "<defs>\n",
       "<symbol id=\"icon-database\" viewBox=\"0 0 32 32\">\n",
       "<path d=\"M16 0c-8.837 0-16 2.239-16 5v4c0 2.761 7.163 5 16 5s16-2.239 16-5v-4c0-2.761-7.163-5-16-5z\"></path>\n",
       "<path d=\"M16 17c-8.837 0-16-2.239-16-5v6c0 2.761 7.163 5 16 5s16-2.239 16-5v-6c0 2.761-7.163 5-16 5z\"></path>\n",
       "<path d=\"M16 26c-8.837 0-16-2.239-16-5v6c0 2.761 7.163 5 16 5s16-2.239 16-5v-6c0 2.761-7.163 5-16 5z\"></path>\n",
       "</symbol>\n",
       "<symbol id=\"icon-file-text2\" viewBox=\"0 0 32 32\">\n",
       "<path d=\"M28.681 7.159c-0.694-0.947-1.662-2.053-2.724-3.116s-2.169-2.030-3.116-2.724c-1.612-1.182-2.393-1.319-2.841-1.319h-15.5c-1.378 0-2.5 1.121-2.5 2.5v27c0 1.378 1.122 2.5 2.5 2.5h23c1.378 0 2.5-1.122 2.5-2.5v-19.5c0-0.448-0.137-1.23-1.319-2.841zM24.543 5.457c0.959 0.959 1.712 1.825 2.268 2.543h-4.811v-4.811c0.718 0.556 1.584 1.309 2.543 2.268zM28 29.5c0 0.271-0.229 0.5-0.5 0.5h-23c-0.271 0-0.5-0.229-0.5-0.5v-27c0-0.271 0.229-0.5 0.5-0.5 0 0 15.499-0 15.5 0v7c0 0.552 0.448 1 1 1h7v19.5z\"></path>\n",
       "<path d=\"M23 26h-14c-0.552 0-1-0.448-1-1s0.448-1 1-1h14c0.552 0 1 0.448 1 1s-0.448 1-1 1z\"></path>\n",
       "<path d=\"M23 22h-14c-0.552 0-1-0.448-1-1s0.448-1 1-1h14c0.552 0 1 0.448 1 1s-0.448 1-1 1z\"></path>\n",
       "<path d=\"M23 18h-14c-0.552 0-1-0.448-1-1s0.448-1 1-1h14c0.552 0 1 0.448 1 1s-0.448 1-1 1z\"></path>\n",
       "</symbol>\n",
       "</defs>\n",
       "</svg>\n",
       "<style>/* CSS stylesheet for displaying xarray objects in jupyterlab.\n",
       " *\n",
       " */\n",
       "\n",
       ":root {\n",
       "  --xr-font-color0: var(--jp-content-font-color0, rgba(0, 0, 0, 1));\n",
       "  --xr-font-color2: var(--jp-content-font-color2, rgba(0, 0, 0, 0.54));\n",
       "  --xr-font-color3: var(--jp-content-font-color3, rgba(0, 0, 0, 0.38));\n",
       "  --xr-border-color: var(--jp-border-color2, #e0e0e0);\n",
       "  --xr-disabled-color: var(--jp-layout-color3, #bdbdbd);\n",
       "  --xr-background-color: var(--jp-layout-color0, white);\n",
       "  --xr-background-color-row-even: var(--jp-layout-color1, white);\n",
       "  --xr-background-color-row-odd: var(--jp-layout-color2, #eeeeee);\n",
       "}\n",
       "\n",
       "html[theme=\"dark\"],\n",
       "html[data-theme=\"dark\"],\n",
       "body[data-theme=\"dark\"],\n",
       "body.vscode-dark {\n",
       "  --xr-font-color0: rgba(255, 255, 255, 1);\n",
       "  --xr-font-color2: rgba(255, 255, 255, 0.54);\n",
       "  --xr-font-color3: rgba(255, 255, 255, 0.38);\n",
       "  --xr-border-color: #1f1f1f;\n",
       "  --xr-disabled-color: #515151;\n",
       "  --xr-background-color: #111111;\n",
       "  --xr-background-color-row-even: #111111;\n",
       "  --xr-background-color-row-odd: #313131;\n",
       "}\n",
       "\n",
       ".xr-wrap {\n",
       "  display: block !important;\n",
       "  min-width: 300px;\n",
       "  max-width: 700px;\n",
       "}\n",
       "\n",
       ".xr-text-repr-fallback {\n",
       "  /* fallback to plain text repr when CSS is not injected (untrusted notebook) */\n",
       "  display: none;\n",
       "}\n",
       "\n",
       ".xr-header {\n",
       "  padding-top: 6px;\n",
       "  padding-bottom: 6px;\n",
       "  margin-bottom: 4px;\n",
       "  border-bottom: solid 1px var(--xr-border-color);\n",
       "}\n",
       "\n",
       ".xr-header > div,\n",
       ".xr-header > ul {\n",
       "  display: inline;\n",
       "  margin-top: 0;\n",
       "  margin-bottom: 0;\n",
       "}\n",
       "\n",
       ".xr-obj-type,\n",
       ".xr-array-name {\n",
       "  margin-left: 2px;\n",
       "  margin-right: 10px;\n",
       "}\n",
       "\n",
       ".xr-obj-type {\n",
       "  color: var(--xr-font-color2);\n",
       "}\n",
       "\n",
       ".xr-sections {\n",
       "  padding-left: 0 !important;\n",
       "  display: grid;\n",
       "  grid-template-columns: 150px auto auto 1fr 0 20px 0 20px;\n",
       "}\n",
       "\n",
       ".xr-section-item {\n",
       "  display: contents;\n",
       "}\n",
       "\n",
       ".xr-section-item input {\n",
       "  display: inline-block;\n",
       "  opacity: 0;\n",
       "  height: 0;\n",
       "}\n",
       "\n",
       ".xr-section-item input + label {\n",
       "  color: var(--xr-disabled-color);\n",
       "}\n",
       "\n",
       ".xr-section-item input:enabled + label {\n",
       "  cursor: pointer;\n",
       "  color: var(--xr-font-color2);\n",
       "}\n",
       "\n",
       ".xr-section-item input:focus + label {\n",
       "  border: 2px solid var(--xr-font-color0);\n",
       "}\n",
       "\n",
       ".xr-section-item input:enabled + label:hover {\n",
       "  color: var(--xr-font-color0);\n",
       "}\n",
       "\n",
       ".xr-section-summary {\n",
       "  grid-column: 1;\n",
       "  color: var(--xr-font-color2);\n",
       "  font-weight: 500;\n",
       "}\n",
       "\n",
       ".xr-section-summary > span {\n",
       "  display: inline-block;\n",
       "  padding-left: 0.5em;\n",
       "}\n",
       "\n",
       ".xr-section-summary-in:disabled + label {\n",
       "  color: var(--xr-font-color2);\n",
       "}\n",
       "\n",
       ".xr-section-summary-in + label:before {\n",
       "  display: inline-block;\n",
       "  content: \"►\";\n",
       "  font-size: 11px;\n",
       "  width: 15px;\n",
       "  text-align: center;\n",
       "}\n",
       "\n",
       ".xr-section-summary-in:disabled + label:before {\n",
       "  color: var(--xr-disabled-color);\n",
       "}\n",
       "\n",
       ".xr-section-summary-in:checked + label:before {\n",
       "  content: \"▼\";\n",
       "}\n",
       "\n",
       ".xr-section-summary-in:checked + label > span {\n",
       "  display: none;\n",
       "}\n",
       "\n",
       ".xr-section-summary,\n",
       ".xr-section-inline-details {\n",
       "  padding-top: 4px;\n",
       "  padding-bottom: 4px;\n",
       "}\n",
       "\n",
       ".xr-section-inline-details {\n",
       "  grid-column: 2 / -1;\n",
       "}\n",
       "\n",
       ".xr-section-details {\n",
       "  display: none;\n",
       "  grid-column: 1 / -1;\n",
       "  margin-bottom: 5px;\n",
       "}\n",
       "\n",
       ".xr-section-summary-in:checked ~ .xr-section-details {\n",
       "  display: contents;\n",
       "}\n",
       "\n",
       ".xr-array-wrap {\n",
       "  grid-column: 1 / -1;\n",
       "  display: grid;\n",
       "  grid-template-columns: 20px auto;\n",
       "}\n",
       "\n",
       ".xr-array-wrap > label {\n",
       "  grid-column: 1;\n",
       "  vertical-align: top;\n",
       "}\n",
       "\n",
       ".xr-preview {\n",
       "  color: var(--xr-font-color3);\n",
       "}\n",
       "\n",
       ".xr-array-preview,\n",
       ".xr-array-data {\n",
       "  padding: 0 5px !important;\n",
       "  grid-column: 2;\n",
       "}\n",
       "\n",
       ".xr-array-data,\n",
       ".xr-array-in:checked ~ .xr-array-preview {\n",
       "  display: none;\n",
       "}\n",
       "\n",
       ".xr-array-in:checked ~ .xr-array-data,\n",
       ".xr-array-preview {\n",
       "  display: inline-block;\n",
       "}\n",
       "\n",
       ".xr-dim-list {\n",
       "  display: inline-block !important;\n",
       "  list-style: none;\n",
       "  padding: 0 !important;\n",
       "  margin: 0;\n",
       "}\n",
       "\n",
       ".xr-dim-list li {\n",
       "  display: inline-block;\n",
       "  padding: 0;\n",
       "  margin: 0;\n",
       "}\n",
       "\n",
       ".xr-dim-list:before {\n",
       "  content: \"(\";\n",
       "}\n",
       "\n",
       ".xr-dim-list:after {\n",
       "  content: \")\";\n",
       "}\n",
       "\n",
       ".xr-dim-list li:not(:last-child):after {\n",
       "  content: \",\";\n",
       "  padding-right: 5px;\n",
       "}\n",
       "\n",
       ".xr-has-index {\n",
       "  font-weight: bold;\n",
       "}\n",
       "\n",
       ".xr-var-list,\n",
       ".xr-var-item {\n",
       "  display: contents;\n",
       "}\n",
       "\n",
       ".xr-var-item > div,\n",
       ".xr-var-item label,\n",
       ".xr-var-item > .xr-var-name span {\n",
       "  background-color: var(--xr-background-color-row-even);\n",
       "  margin-bottom: 0;\n",
       "}\n",
       "\n",
       ".xr-var-item > .xr-var-name:hover span {\n",
       "  padding-right: 5px;\n",
       "}\n",
       "\n",
       ".xr-var-list > li:nth-child(odd) > div,\n",
       ".xr-var-list > li:nth-child(odd) > label,\n",
       ".xr-var-list > li:nth-child(odd) > .xr-var-name span {\n",
       "  background-color: var(--xr-background-color-row-odd);\n",
       "}\n",
       "\n",
       ".xr-var-name {\n",
       "  grid-column: 1;\n",
       "}\n",
       "\n",
       ".xr-var-dims {\n",
       "  grid-column: 2;\n",
       "}\n",
       "\n",
       ".xr-var-dtype {\n",
       "  grid-column: 3;\n",
       "  text-align: right;\n",
       "  color: var(--xr-font-color2);\n",
       "}\n",
       "\n",
       ".xr-var-preview {\n",
       "  grid-column: 4;\n",
       "}\n",
       "\n",
       ".xr-index-preview {\n",
       "  grid-column: 2 / 5;\n",
       "  color: var(--xr-font-color2);\n",
       "}\n",
       "\n",
       ".xr-var-name,\n",
       ".xr-var-dims,\n",
       ".xr-var-dtype,\n",
       ".xr-preview,\n",
       ".xr-attrs dt {\n",
       "  white-space: nowrap;\n",
       "  overflow: hidden;\n",
       "  text-overflow: ellipsis;\n",
       "  padding-right: 10px;\n",
       "}\n",
       "\n",
       ".xr-var-name:hover,\n",
       ".xr-var-dims:hover,\n",
       ".xr-var-dtype:hover,\n",
       ".xr-attrs dt:hover {\n",
       "  overflow: visible;\n",
       "  width: auto;\n",
       "  z-index: 1;\n",
       "}\n",
       "\n",
       ".xr-var-attrs,\n",
       ".xr-var-data,\n",
       ".xr-index-data {\n",
       "  display: none;\n",
       "  background-color: var(--xr-background-color) !important;\n",
       "  padding-bottom: 5px !important;\n",
       "}\n",
       "\n",
       ".xr-var-attrs-in:checked ~ .xr-var-attrs,\n",
       ".xr-var-data-in:checked ~ .xr-var-data,\n",
       ".xr-index-data-in:checked ~ .xr-index-data {\n",
       "  display: block;\n",
       "}\n",
       "\n",
       ".xr-var-data > table {\n",
       "  float: right;\n",
       "}\n",
       "\n",
       ".xr-var-name span,\n",
       ".xr-var-data,\n",
       ".xr-index-name div,\n",
       ".xr-index-data,\n",
       ".xr-attrs {\n",
       "  padding-left: 25px !important;\n",
       "}\n",
       "\n",
       ".xr-attrs,\n",
       ".xr-var-attrs,\n",
       ".xr-var-data,\n",
       ".xr-index-data {\n",
       "  grid-column: 1 / -1;\n",
       "}\n",
       "\n",
       "dl.xr-attrs {\n",
       "  padding: 0;\n",
       "  margin: 0;\n",
       "  display: grid;\n",
       "  grid-template-columns: 125px auto;\n",
       "}\n",
       "\n",
       ".xr-attrs dt,\n",
       ".xr-attrs dd {\n",
       "  padding: 0;\n",
       "  margin: 0;\n",
       "  float: left;\n",
       "  padding-right: 10px;\n",
       "  width: auto;\n",
       "}\n",
       "\n",
       ".xr-attrs dt {\n",
       "  font-weight: normal;\n",
       "  grid-column: 1;\n",
       "}\n",
       "\n",
       ".xr-attrs dt:hover span {\n",
       "  display: inline-block;\n",
       "  background: var(--xr-background-color);\n",
       "  padding-right: 10px;\n",
       "}\n",
       "\n",
       ".xr-attrs dd {\n",
       "  grid-column: 2;\n",
       "  white-space: pre-wrap;\n",
       "  word-break: break-all;\n",
       "}\n",
       "\n",
       ".xr-icon-database,\n",
       ".xr-icon-file-text2,\n",
       ".xr-no-icon {\n",
       "  display: inline-block;\n",
       "  vertical-align: middle;\n",
       "  width: 1em;\n",
       "  height: 1.5em !important;\n",
       "  stroke-width: 0;\n",
       "  stroke: currentColor;\n",
       "  fill: currentColor;\n",
       "}\n",
       "</style><pre class='xr-text-repr-fallback'>&lt;xarray.DataArray (chain: 1, draw: 1, a: 3)&gt; Size: 24B\n",
       "array([[[0., 0., 0.]]])\n",
       "Coordinates:\n",
       "  * chain    (chain) int64 8B 0\n",
       "  * draw     (draw) int64 8B 0\n",
       "  * a        (a) int64 24B 1 2 3</pre><div class='xr-wrap' style='display:none'><div class='xr-header'><div class='xr-obj-type'>xarray.DataArray</div><div class='xr-array-name'></div><ul class='xr-dim-list'><li><span class='xr-has-index'>chain</span>: 1</li><li><span class='xr-has-index'>draw</span>: 1</li><li><span class='xr-has-index'>a</span>: 3</li></ul></div><ul class='xr-sections'><li class='xr-section-item'><div class='xr-array-wrap'><input id='section-69ae97af-4191-4e17-84f5-972b45fc5e5d' class='xr-array-in' type='checkbox' checked><label for='section-69ae97af-4191-4e17-84f5-972b45fc5e5d' title='Show/hide data repr'><svg class='icon xr-icon-database'><use xlink:href='#icon-database'></use></svg></label><div class='xr-array-preview xr-preview'><span>0.0 0.0 0.0</span></div><div class='xr-array-data'><pre>array([[[0., 0., 0.]]])</pre></div></div></li><li class='xr-section-item'><input id='section-92c8a171-f2de-4dc5-801a-c256bb13d1d7' class='xr-section-summary-in' type='checkbox'  checked><label for='section-92c8a171-f2de-4dc5-801a-c256bb13d1d7' class='xr-section-summary' >Coordinates: <span>(3)</span></label><div class='xr-section-inline-details'></div><div class='xr-section-details'><ul class='xr-var-list'><li class='xr-var-item'><div class='xr-var-name'><span class='xr-has-index'>chain</span></div><div class='xr-var-dims'>(chain)</div><div class='xr-var-dtype'>int64</div><div class='xr-var-preview xr-preview'>0</div><input id='attrs-0b313a7e-9d5c-4571-8675-ca0891a3f50f' class='xr-var-attrs-in' type='checkbox' disabled><label for='attrs-0b313a7e-9d5c-4571-8675-ca0891a3f50f' title='Show/Hide attributes'><svg class='icon xr-icon-file-text2'><use xlink:href='#icon-file-text2'></use></svg></label><input id='data-e1313455-f64e-46d0-a7f5-a618f05cc4bf' class='xr-var-data-in' type='checkbox'><label for='data-e1313455-f64e-46d0-a7f5-a618f05cc4bf' title='Show/Hide data repr'><svg class='icon xr-icon-database'><use xlink:href='#icon-database'></use></svg></label><div class='xr-var-attrs'><dl class='xr-attrs'></dl></div><div class='xr-var-data'><pre>array([0])</pre></div></li><li class='xr-var-item'><div class='xr-var-name'><span class='xr-has-index'>draw</span></div><div class='xr-var-dims'>(draw)</div><div class='xr-var-dtype'>int64</div><div class='xr-var-preview xr-preview'>0</div><input id='attrs-820371d2-7ef6-4d81-9c39-a8e03c150617' class='xr-var-attrs-in' type='checkbox' disabled><label for='attrs-820371d2-7ef6-4d81-9c39-a8e03c150617' title='Show/Hide attributes'><svg class='icon xr-icon-file-text2'><use xlink:href='#icon-file-text2'></use></svg></label><input id='data-b544517f-e8f3-44ba-92ed-047283433611' class='xr-var-data-in' type='checkbox'><label for='data-b544517f-e8f3-44ba-92ed-047283433611' title='Show/Hide data repr'><svg class='icon xr-icon-database'><use xlink:href='#icon-database'></use></svg></label><div class='xr-var-attrs'><dl class='xr-attrs'></dl></div><div class='xr-var-data'><pre>array([0])</pre></div></li><li class='xr-var-item'><div class='xr-var-name'><span class='xr-has-index'>a</span></div><div class='xr-var-dims'>(a)</div><div class='xr-var-dtype'>int64</div><div class='xr-var-preview xr-preview'>1 2 3</div><input id='attrs-d453326b-2b7c-4fb5-822b-024ca8d8a80d' class='xr-var-attrs-in' type='checkbox' disabled><label for='attrs-d453326b-2b7c-4fb5-822b-024ca8d8a80d' title='Show/Hide attributes'><svg class='icon xr-icon-file-text2'><use xlink:href='#icon-file-text2'></use></svg></label><input id='data-53f9e7d6-2fa9-4e3e-be6c-8ec61f75e93d' class='xr-var-data-in' type='checkbox'><label for='data-53f9e7d6-2fa9-4e3e-be6c-8ec61f75e93d' title='Show/Hide data repr'><svg class='icon xr-icon-database'><use xlink:href='#icon-database'></use></svg></label><div class='xr-var-attrs'><dl class='xr-attrs'></dl></div><div class='xr-var-data'><pre>array([1, 2, 3])</pre></div></li></ul></div></li><li class='xr-section-item'><input id='section-dcad4e48-dcc1-468a-9366-2306b2d5d799' class='xr-section-summary-in' type='checkbox'  ><label for='section-dcad4e48-dcc1-468a-9366-2306b2d5d799' class='xr-section-summary' >Indexes: <span>(3)</span></label><div class='xr-section-inline-details'></div><div class='xr-section-details'><ul class='xr-var-list'><li class='xr-var-item'><div class='xr-index-name'><div>chain</div></div><div class='xr-index-preview'>PandasIndex</div><input type='checkbox' disabled/><label></label><input id='index-d46b7b30-25ec-467c-91c9-4dd0c8f77a70' class='xr-index-data-in' type='checkbox'/><label for='index-d46b7b30-25ec-467c-91c9-4dd0c8f77a70' title='Show/Hide index repr'><svg class='icon xr-icon-database'><use xlink:href='#icon-database'></use></svg></label><div class='xr-index-data'><pre>PandasIndex(Index([0], dtype=&#x27;int64&#x27;, name=&#x27;chain&#x27;))</pre></div></li><li class='xr-var-item'><div class='xr-index-name'><div>draw</div></div><div class='xr-index-preview'>PandasIndex</div><input type='checkbox' disabled/><label></label><input id='index-41589499-3928-4095-a2e1-c7fad2b49e3f' class='xr-index-data-in' type='checkbox'/><label for='index-41589499-3928-4095-a2e1-c7fad2b49e3f' title='Show/Hide index repr'><svg class='icon xr-icon-database'><use xlink:href='#icon-database'></use></svg></label><div class='xr-index-data'><pre>PandasIndex(Index([0], dtype=&#x27;int64&#x27;, name=&#x27;draw&#x27;))</pre></div></li><li class='xr-var-item'><div class='xr-index-name'><div>a</div></div><div class='xr-index-preview'>PandasIndex</div><input type='checkbox' disabled/><label></label><input id='index-1ab80bc2-92f1-4a8d-ae72-00ff519d0ccd' class='xr-index-data-in' type='checkbox'/><label for='index-1ab80bc2-92f1-4a8d-ae72-00ff519d0ccd' title='Show/Hide index repr'><svg class='icon xr-icon-database'><use xlink:href='#icon-database'></use></svg></label><div class='xr-index-data'><pre>PandasIndex(Index([1, 2, 3], dtype=&#x27;int64&#x27;, name=&#x27;a&#x27;))</pre></div></li></ul></div></li><li class='xr-section-item'><input id='section-8e1e09b8-3887-4c6e-a76a-585f920903c0' class='xr-section-summary-in' type='checkbox' disabled ><label for='section-8e1e09b8-3887-4c6e-a76a-585f920903c0' class='xr-section-summary'  title='Expand/collapse section'>Attributes: <span>(0)</span></label><div class='xr-section-inline-details'></div><div class='xr-section-details'><dl class='xr-attrs'></dl></div></li></ul></div></div>"
      ],
      "text/plain": [
       "<xarray.DataArray (chain: 1, draw: 1, a: 3)> Size: 24B\n",
       "array([[[0., 0., 0.]]])\n",
       "Coordinates:\n",
       "  * chain    (chain) int64 8B 0\n",
       "  * draw     (draw) int64 8B 0\n",
       "  * a        (a) int64 24B 1 2 3"
      ]
     },
     "execution_count": 42,
     "metadata": {},
     "output_type": "execute_result"
    }
   ],
   "source": [
    "idata.prior[\"x_reversed\"] = idata.prior[\"x_reversed\"].assign_coords({\"a\": [3, 2, 1]})\n",
    "idata.prior[\"x\"] - idata.prior[\"x_reversed\"]"
   ]
  },
  {
   "cell_type": "code",
   "execution_count": null,
   "id": "b1a5481d-085e-4c89-b0fa-3b4c6317c36b",
   "metadata": {},
   "outputs": [],
   "source": []
  }
 ],
 "metadata": {
  "kernelspec": {
   "display_name": "pymc",
   "language": "python",
   "name": "pymc"
  },
  "language_info": {
   "codemirror_mode": {
    "name": "ipython",
    "version": 3
   },
   "file_extension": ".py",
   "mimetype": "text/x-python",
   "name": "python",
   "nbconvert_exporter": "python",
   "pygments_lexer": "ipython3",
   "version": "3.12.8"
  }
 },
 "nbformat": 4,
 "nbformat_minor": 5
}
