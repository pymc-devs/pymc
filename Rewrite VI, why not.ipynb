{
 "cells": [
  {
   "cell_type": "code",
   "execution_count": 1,
   "id": "9f946eb4",
   "metadata": {},
   "outputs": [],
   "source": [
    "import numpy as np\n",
    "import pytensor.tensor as pt\n",
    "\n",
    "import pymc as pm"
   ]
  },
  {
   "cell_type": "code",
   "execution_count": 2,
   "id": "e746bc33",
   "metadata": {},
   "outputs": [
    {
     "name": "stderr",
     "output_type": "stream",
     "text": [
      "Sampling: [X, alpha, beta, sigma, y]\n"
     ]
    }
   ],
   "source": [
    "with pm.Model() as m:\n",
    "    X = pm.Normal(\"X\", 0, 1, size=(100, 10))\n",
    "    alpha = pm.Normal(\"alpha\", 100, 10)\n",
    "    beta = pm.Normal(\"beta\", 0, 5, size=(10,))\n",
    "\n",
    "    mu = alpha + X @ beta\n",
    "    sigma = pm.Exponential(\"sigma\", 1)\n",
    "    y = pm.Normal(\"y\", mu=mu, sigma=sigma)\n",
    "\n",
    "    prior = pm.sample_prior_predictive()"
   ]
  },
  {
   "cell_type": "code",
   "execution_count": 3,
   "id": "a8ca0161",
   "metadata": {},
   "outputs": [],
   "source": [
    "draw = 123\n",
    "true_params = np.r_[\n",
    "    prior.prior.alpha.sel(chain=0, draw=draw).values,\n",
    "    prior.prior.beta.sel(chain=0, draw=draw),\n",
    "    prior.prior.sigma.sel(chain=0, draw=draw),\n",
    "]\n",
    "X_data = prior.prior.X.sel(chain=0, draw=draw).values\n",
    "y_data = prior.prior.y.sel(chain=0, draw=draw).values"
   ]
  },
  {
   "cell_type": "code",
   "execution_count": 4,
   "id": "b89f4031",
   "metadata": {},
   "outputs": [],
   "source": [
    "m_obs = pm.observe(pm.do(m, {X: X_data}), {\"y\": y_data})"
   ]
  },
  {
   "cell_type": "code",
   "execution_count": 5,
   "id": "a42a84e4",
   "metadata": {},
   "outputs": [],
   "source": [
    "Parameter = pt.tensor\n",
    "\n",
    "draws = pt.tensor(\"draws\", shape=(), dtype=\"int64\")\n",
    "\n",
    "with pm.Model() as guide_model:\n",
    "    X = pm.Data(\"X\", X_data)\n",
    "    alpha_loc = Parameter(\"alpha_loc\", shape=())\n",
    "    alpha_scale = Parameter(\"alpha_scale\", shape=())\n",
    "    alpha_z = pm.Normal(\"alpha_z\", mu=0, sigma=1, shape=(draws,))\n",
    "    alpha = pm.Deterministic(\"alpha\", alpha_loc + alpha_scale * alpha_z)\n",
    "\n",
    "    beta_loc = Parameter(\"beta_loc\", shape=(10,))\n",
    "    beta_scale = Parameter(\"beta_scale\", shape=(10,))\n",
    "    beta_z = pm.Normal(\"beta_z\", mu=0, sigma=1, shape=(draws, 10))\n",
    "    beta = pm.Deterministic(\"beta\", beta_loc + beta_scale * beta_z)\n",
    "\n",
    "    mu = alpha + X @ beta\n",
    "\n",
    "    sigma_loc = Parameter(\"sigma_loc\", shape=())\n",
    "    sigma_scale = Parameter(\"sigma_scale\", shape=())\n",
    "    sigma_z = pm.Normal(\"sigma_z\", 0, 1, shape=(draws,))\n",
    "    sigma = pm.Deterministic(\"sigma\", pt.softplus(sigma_loc + sigma_scale * sigma_z))\n",
    "\n",
    "# with pm.Model() as guide_model2:\n",
    "#     n = 10 + 1 + 1\n",
    "#     loc = Parameter(\"loc\", shape=(n,))\n",
    "#     chol_flat = Parameter(\"chol\", shape=(n * n-1, ))\n",
    "#     chol = pm.expand_packed_triangular(n, chol_flat)\n",
    "#     latent_mvn = pm.MvNormal(\"latent_mvn\", chol=chol)\n",
    "\n",
    "#     pm.Deterministic(\"beta\", latent_mvn[:10])\n",
    "#     pm.Deterministic(\"alpha\", latent_mvn[10])\n",
    "#     pm.Deterministic(\"sigma\", pm.math.exp(latent_mvn[11]))"
   ]
  },
  {
   "cell_type": "code",
   "execution_count": 6,
   "id": "bffb1b69",
   "metadata": {},
   "outputs": [],
   "source": [
    "params = [alpha_loc, alpha_scale, beta_loc, beta_scale, sigma_loc, sigma_scale]"
   ]
  },
  {
   "cell_type": "code",
   "execution_count": 7,
   "id": "a9f3fa0e",
   "metadata": {},
   "outputs": [],
   "source": [
    "from pytensor.graph.replace import graph_replace, vectorize_graph\n",
    "\n",
    "outputs = [m_obs.datalogp, m_obs.varlogp]\n",
    "inputs = m_obs.value_vars\n",
    "inputs_to_guide_rvs = {\n",
    "    model_value_var: guide_model[rv.name]\n",
    "    for rv, model_value_var in m_obs.rvs_to_values.items()\n",
    "    if rv not in m_obs.observed_RVs\n",
    "}\n",
    "model_logp = vectorize_graph(m_obs.logp(), inputs_to_guide_rvs)\n",
    "guide_logq = graph_replace(guide_model.logp(), guide_model.values_to_rvs)\n",
    "\n",
    "negative_elbo = (guide_logq - model_logp).mean()\n",
    "d_loss = pt.grad(negative_elbo, params)\n",
    "\n",
    "f_loss_dloss = pm.compile(params + [draws], [negative_elbo, *d_loss], trust_input=True)"
   ]
  },
  {
   "cell_type": "code",
   "execution_count": 8,
   "id": "37ae25b1",
   "metadata": {},
   "outputs": [],
   "source": [
    "init_dict = m_obs.initial_point()\n",
    "init_dict = {k: np.expand_dims(v, 0) for k, v in init_dict.items()}\n",
    "param_dict = {param.name: np.full(param.type.shape, 0.5) for param in params}"
   ]
  },
  {
   "cell_type": "code",
   "execution_count": 9,
   "id": "6086f2cc",
   "metadata": {},
   "outputs": [
    {
     "name": "stdout",
     "output_type": "stream",
     "text": [
      "-8391.5148860327435\r"
     ]
    }
   ],
   "source": [
    "learning_rate = 1e-5\n",
    "n_iter = 60_000\n",
    "loss_history = np.empty(n_iter)\n",
    "for i in range(n_iter):\n",
    "    loss, *grads = f_loss_dloss(**param_dict, draws=500)\n",
    "    loss_history[i] = loss\n",
    "    for (name, value), grad in zip(param_dict.items(), grads):\n",
    "        param_dict[name] = (value - learning_rate * grad).copy()\n",
    "    if i % 50 == 0:\n",
    "        print(loss, end=\"\\r\")\n",
    "    if i % 10_000 == 0 and i > 0:\n",
    "        learning_rate = min(learning_rate * 10, 1e-3)"
   ]
  },
  {
   "cell_type": "code",
   "execution_count": 10,
   "id": "650c5e39",
   "metadata": {},
   "outputs": [
    {
     "data": {
      "text/plain": [
       "[<matplotlib.lines.Line2D at 0x7fc727da75d0>]"
      ]
     },
     "execution_count": 10,
     "metadata": {},
     "output_type": "execute_result"
    },
    {
     "data": {
      "image/png": "[encoded data removed]",
      "text/plain": [
       "<Figure size 640x480 with 1 Axes>"
      ]
     },
     "metadata": {},
     "output_type": "display_data"
    }
   ],
   "source": [
    "import matplotlib.pyplot as plt\n",
    "\n",
    "window_size = 100\n",
    "kernel = np.full(window_size, 1 / window_size)\n",
    "plt.plot(np.convolve(loss_history, kernel, mode=\"valid\"))"
   ]
  },
  {
   "cell_type": "code",
   "execution_count": 11,
   "id": "1251b6f1",
   "metadata": {},
   "outputs": [
    {
     "data": {
      "text/plain": [
       "array([102.12462346,  10.74446646,   0.51969095,  -7.61435818,\n",
       "         8.55366616,  -8.5301462 ,   0.69953323,  -0.55440606,\n",
       "        -2.43179013,  -5.36278597,  -1.29241817,  -7.09759975])"
      ]
     },
     "execution_count": 11,
     "metadata": {},
     "output_type": "execute_result"
    }
   ],
   "source": [
    "np.r_[param_dict[\"alpha_loc\"], param_dict[\"beta_loc\"], param_dict[\"sigma_loc\"]]"
   ]
  },
  {
   "cell_type": "code",
   "execution_count": 12,
   "id": "11345fb4",
   "metadata": {},
   "outputs": [
    {
     "data": {
      "text/plain": [
       "array([102.16132511,  10.75292414,   0.54980953,  -7.64875998,\n",
       "         8.5053264 ,  -8.56422778,   0.70840797,  -0.57081651,\n",
       "        -2.45245893,  -5.30737734,  -1.33080016,   0.25923082])"
      ]
     },
     "execution_count": 12,
     "metadata": {},
     "output_type": "execute_result"
    }
   ],
   "source": [
    "true_params"
   ]
  },
  {
   "cell_type": "markdown",
   "id": "0cf321e6",
   "metadata": {},
   "source": [
    "## Todo:\n",
    "\n",
    "- Does this \"two models\" frameworks fits into what we already have?\n",
    "- `model_to_mean_field` transformation\n",
    "- rsample --> stochastic gradients? Or automatic reparameterization?\n",
    "- More flexible optimizers..."
   ]
  },
  {
   "cell_type": "code",
   "execution_count": null,
   "id": "77786d86",
   "metadata": {},
   "outputs": [],
   "source": []
  }
 ],
 "metadata": {
  "kernelspec": {
   "display_name": "Python 3 (ipykernel)",
   "language": "python",
   "name": "python3"
  },
  "language_info": {
   "codemirror_mode": {
    "name": "ipython",
    "version": 3
   },
   "file_extension": ".py",
   "mimetype": "text/x-python",
   "name": "python",
   "nbconvert_exporter": "python",
   "pygments_lexer": "ipython3",
   "version": "3.11.11"
  }
 },
 "nbformat": 4,
 "nbformat_minor": 5
}
